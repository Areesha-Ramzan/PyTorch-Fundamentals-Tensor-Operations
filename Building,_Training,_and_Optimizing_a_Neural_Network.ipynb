{
  "nbformat": 4,
  "nbformat_minor": 0,
  "metadata": {
    "colab": {
      "provenance": [],
      "gpuType": "T4"
    },
    "kernelspec": {
      "name": "python3",
      "display_name": "Python 3"
    },
    "language_info": {
      "name": "python"
    },
    "accelerator": "GPU"
  },
  "cells": [
    {
      "cell_type": "markdown",
      "source": [
        "Building an Artificial Neural Network (ANN)"
      ],
      "metadata": {
        "id": "Yg4vwWVhkAAs"
      }
    },
    {
      "cell_type": "markdown",
      "source": [
        "without GPU"
      ],
      "metadata": {
        "id": "nsvhAYmPkE25"
      }
    },
    {
      "cell_type": "code",
      "source": [
        "import pandas as pd\n",
        "from sklearn.model_selection import train_test_split\n",
        "import torch\n",
        "import torch.nn as nn\n",
        "import torch.optim as optim\n",
        "from torch.utils.data import DataLoader, Dataset\n",
        "from sklearn.preprocessing import StandardScaler\n",
        "import matplotlib.pyplot as plt"
      ],
      "metadata": {
        "id": "sSXgk9dDj_uT"
      },
      "execution_count": 1,
      "outputs": []
    },
    {
      "cell_type": "markdown",
      "source": [
        "import pandas as pd\n",
        "Loads pandas, a library for working with tables CSV.\n",
        "\n",
        "from sklearn.model_selection import train_test_split\n",
        "Imports train_test_split — a helper that randomly splits your data into training and test sets.\n",
        "\n",
        "import torch\n",
        "Loads PyTorch\n",
        "\n",
        "import torch.nn as nn\n",
        "Imports the neural network building blocks.\n",
        "\n",
        "import torch.optim as optim\n",
        "Loads optimization algorithms (like SGD, Adam).\n",
        "\n",
        "from torch.utils.data import DataLoader, Dataset\n",
        "Imports Dataset (a class you can extend so PyTorch knows how to read your data) and DataLoader (which provides batches and shuffling).\n",
        "\n",
        "\n",
        "import matplotlib.pyplot as plt\n",
        "Imports plotting library for charts and visualizations."
      ],
      "metadata": {
        "id": "VblDQYyiVfJr"
      }
    },
    {
      "cell_type": "code",
      "execution_count": 2,
      "metadata": {
        "colab": {
          "base_uri": "https://localhost:8080/"
        },
        "id": "nTAdmhPkjiAM",
        "outputId": "1bda00d3-c652-4254-e903-37dd1c5a4651"
      },
      "outputs": [
        {
          "output_type": "execute_result",
          "data": {
            "text/plain": [
              "<torch._C.Generator at 0x7c78c56f56d0>"
            ]
          },
          "metadata": {},
          "execution_count": 2
        }
      ],
      "source": [
        "torch.manual_seed(42)"
      ]
    },
    {
      "cell_type": "code",
      "source": [
        "df = pd.read_csv('/content/fmnist_small.csv')\n",
        "df.head()"
      ],
      "metadata": {
        "colab": {
          "base_uri": "https://localhost:8080/",
          "height": 255
        },
        "id": "xuRbY2cNldUq",
        "outputId": "49df5fcc-5966-4ddb-b66e-f885e068f77b"
      },
      "execution_count": 3,
      "outputs": [
        {
          "output_type": "execute_result",
          "data": {
            "text/plain": [
              "   label  pixel1  pixel2  pixel3  pixel4  pixel5  pixel6  pixel7  pixel8  \\\n",
              "0      9       0       0       0       0       0       0       0       0   \n",
              "1      7       0       0       0       0       0       0       0       0   \n",
              "2      0       0       0       0       0       0       1       0       0   \n",
              "3      8       0       0       0       0       0       0       0       0   \n",
              "4      8       0       0       0       0       0       0       0       0   \n",
              "\n",
              "   pixel9  ...  pixel775  pixel776  pixel777  pixel778  pixel779  pixel780  \\\n",
              "0       0  ...         0         7         0        50       205       196   \n",
              "1       0  ...         0         0         0         0         0         0   \n",
              "2       0  ...       142       142       142        21         0         3   \n",
              "3       0  ...         0         0         0         0         0         0   \n",
              "4       0  ...       213       203       174       151       188        10   \n",
              "\n",
              "   pixel781  pixel782  pixel783  pixel784  \n",
              "0       213       165         0         0  \n",
              "1         0         0         0         0  \n",
              "2         0         0         0         0  \n",
              "3         0         0         0         0  \n",
              "4         0         0         0         0  \n",
              "\n",
              "[5 rows x 785 columns]"
            ],
            "text/html": [
              "\n",
              "  <div id=\"df-cfb8ad62-1b88-4d0b-8fb4-9ff2b82c58ea\" class=\"colab-df-container\">\n",
              "    <div>\n",
              "<style scoped>\n",
              "    .dataframe tbody tr th:only-of-type {\n",
              "        vertical-align: middle;\n",
              "    }\n",
              "\n",
              "    .dataframe tbody tr th {\n",
              "        vertical-align: top;\n",
              "    }\n",
              "\n",
              "    .dataframe thead th {\n",
              "        text-align: right;\n",
              "    }\n",
              "</style>\n",
              "<table border=\"1\" class=\"dataframe\">\n",
              "  <thead>\n",
              "    <tr style=\"text-align: right;\">\n",
              "      <th></th>\n",
              "      <th>label</th>\n",
              "      <th>pixel1</th>\n",
              "      <th>pixel2</th>\n",
              "      <th>pixel3</th>\n",
              "      <th>pixel4</th>\n",
              "      <th>pixel5</th>\n",
              "      <th>pixel6</th>\n",
              "      <th>pixel7</th>\n",
              "      <th>pixel8</th>\n",
              "      <th>pixel9</th>\n",
              "      <th>...</th>\n",
              "      <th>pixel775</th>\n",
              "      <th>pixel776</th>\n",
              "      <th>pixel777</th>\n",
              "      <th>pixel778</th>\n",
              "      <th>pixel779</th>\n",
              "      <th>pixel780</th>\n",
              "      <th>pixel781</th>\n",
              "      <th>pixel782</th>\n",
              "      <th>pixel783</th>\n",
              "      <th>pixel784</th>\n",
              "    </tr>\n",
              "  </thead>\n",
              "  <tbody>\n",
              "    <tr>\n",
              "      <th>0</th>\n",
              "      <td>9</td>\n",
              "      <td>0</td>\n",
              "      <td>0</td>\n",
              "      <td>0</td>\n",
              "      <td>0</td>\n",
              "      <td>0</td>\n",
              "      <td>0</td>\n",
              "      <td>0</td>\n",
              "      <td>0</td>\n",
              "      <td>0</td>\n",
              "      <td>...</td>\n",
              "      <td>0</td>\n",
              "      <td>7</td>\n",
              "      <td>0</td>\n",
              "      <td>50</td>\n",
              "      <td>205</td>\n",
              "      <td>196</td>\n",
              "      <td>213</td>\n",
              "      <td>165</td>\n",
              "      <td>0</td>\n",
              "      <td>0</td>\n",
              "    </tr>\n",
              "    <tr>\n",
              "      <th>1</th>\n",
              "      <td>7</td>\n",
              "      <td>0</td>\n",
              "      <td>0</td>\n",
              "      <td>0</td>\n",
              "      <td>0</td>\n",
              "      <td>0</td>\n",
              "      <td>0</td>\n",
              "      <td>0</td>\n",
              "      <td>0</td>\n",
              "      <td>0</td>\n",
              "      <td>...</td>\n",
              "      <td>0</td>\n",
              "      <td>0</td>\n",
              "      <td>0</td>\n",
              "      <td>0</td>\n",
              "      <td>0</td>\n",
              "      <td>0</td>\n",
              "      <td>0</td>\n",
              "      <td>0</td>\n",
              "      <td>0</td>\n",
              "      <td>0</td>\n",
              "    </tr>\n",
              "    <tr>\n",
              "      <th>2</th>\n",
              "      <td>0</td>\n",
              "      <td>0</td>\n",
              "      <td>0</td>\n",
              "      <td>0</td>\n",
              "      <td>0</td>\n",
              "      <td>0</td>\n",
              "      <td>1</td>\n",
              "      <td>0</td>\n",
              "      <td>0</td>\n",
              "      <td>0</td>\n",
              "      <td>...</td>\n",
              "      <td>142</td>\n",
              "      <td>142</td>\n",
              "      <td>142</td>\n",
              "      <td>21</td>\n",
              "      <td>0</td>\n",
              "      <td>3</td>\n",
              "      <td>0</td>\n",
              "      <td>0</td>\n",
              "      <td>0</td>\n",
              "      <td>0</td>\n",
              "    </tr>\n",
              "    <tr>\n",
              "      <th>3</th>\n",
              "      <td>8</td>\n",
              "      <td>0</td>\n",
              "      <td>0</td>\n",
              "      <td>0</td>\n",
              "      <td>0</td>\n",
              "      <td>0</td>\n",
              "      <td>0</td>\n",
              "      <td>0</td>\n",
              "      <td>0</td>\n",
              "      <td>0</td>\n",
              "      <td>...</td>\n",
              "      <td>0</td>\n",
              "      <td>0</td>\n",
              "      <td>0</td>\n",
              "      <td>0</td>\n",
              "      <td>0</td>\n",
              "      <td>0</td>\n",
              "      <td>0</td>\n",
              "      <td>0</td>\n",
              "      <td>0</td>\n",
              "      <td>0</td>\n",
              "    </tr>\n",
              "    <tr>\n",
              "      <th>4</th>\n",
              "      <td>8</td>\n",
              "      <td>0</td>\n",
              "      <td>0</td>\n",
              "      <td>0</td>\n",
              "      <td>0</td>\n",
              "      <td>0</td>\n",
              "      <td>0</td>\n",
              "      <td>0</td>\n",
              "      <td>0</td>\n",
              "      <td>0</td>\n",
              "      <td>...</td>\n",
              "      <td>213</td>\n",
              "      <td>203</td>\n",
              "      <td>174</td>\n",
              "      <td>151</td>\n",
              "      <td>188</td>\n",
              "      <td>10</td>\n",
              "      <td>0</td>\n",
              "      <td>0</td>\n",
              "      <td>0</td>\n",
              "      <td>0</td>\n",
              "    </tr>\n",
              "  </tbody>\n",
              "</table>\n",
              "<p>5 rows × 785 columns</p>\n",
              "</div>\n",
              "    <div class=\"colab-df-buttons\">\n",
              "\n",
              "  <div class=\"colab-df-container\">\n",
              "    <button class=\"colab-df-convert\" onclick=\"convertToInteractive('df-cfb8ad62-1b88-4d0b-8fb4-9ff2b82c58ea')\"\n",
              "            title=\"Convert this dataframe to an interactive table.\"\n",
              "            style=\"display:none;\">\n",
              "\n",
              "  <svg xmlns=\"http://www.w3.org/2000/svg\" height=\"24px\" viewBox=\"0 -960 960 960\">\n",
              "    <path d=\"M120-120v-720h720v720H120Zm60-500h600v-160H180v160Zm220 220h160v-160H400v160Zm0 220h160v-160H400v160ZM180-400h160v-160H180v160Zm440 0h160v-160H620v160ZM180-180h160v-160H180v160Zm440 0h160v-160H620v160Z\"/>\n",
              "  </svg>\n",
              "    </button>\n",
              "\n",
              "  <style>\n",
              "    .colab-df-container {\n",
              "      display:flex;\n",
              "      gap: 12px;\n",
              "    }\n",
              "\n",
              "    .colab-df-convert {\n",
              "      background-color: #E8F0FE;\n",
              "      border: none;\n",
              "      border-radius: 50%;\n",
              "      cursor: pointer;\n",
              "      display: none;\n",
              "      fill: #1967D2;\n",
              "      height: 32px;\n",
              "      padding: 0 0 0 0;\n",
              "      width: 32px;\n",
              "    }\n",
              "\n",
              "    .colab-df-convert:hover {\n",
              "      background-color: #E2EBFA;\n",
              "      box-shadow: 0px 1px 2px rgba(60, 64, 67, 0.3), 0px 1px 3px 1px rgba(60, 64, 67, 0.15);\n",
              "      fill: #174EA6;\n",
              "    }\n",
              "\n",
              "    .colab-df-buttons div {\n",
              "      margin-bottom: 4px;\n",
              "    }\n",
              "\n",
              "    [theme=dark] .colab-df-convert {\n",
              "      background-color: #3B4455;\n",
              "      fill: #D2E3FC;\n",
              "    }\n",
              "\n",
              "    [theme=dark] .colab-df-convert:hover {\n",
              "      background-color: #434B5C;\n",
              "      box-shadow: 0px 1px 3px 1px rgba(0, 0, 0, 0.15);\n",
              "      filter: drop-shadow(0px 1px 2px rgba(0, 0, 0, 0.3));\n",
              "      fill: #FFFFFF;\n",
              "    }\n",
              "  </style>\n",
              "\n",
              "    <script>\n",
              "      const buttonEl =\n",
              "        document.querySelector('#df-cfb8ad62-1b88-4d0b-8fb4-9ff2b82c58ea button.colab-df-convert');\n",
              "      buttonEl.style.display =\n",
              "        google.colab.kernel.accessAllowed ? 'block' : 'none';\n",
              "\n",
              "      async function convertToInteractive(key) {\n",
              "        const element = document.querySelector('#df-cfb8ad62-1b88-4d0b-8fb4-9ff2b82c58ea');\n",
              "        const dataTable =\n",
              "          await google.colab.kernel.invokeFunction('convertToInteractive',\n",
              "                                                    [key], {});\n",
              "        if (!dataTable) return;\n",
              "\n",
              "        const docLinkHtml = 'Like what you see? Visit the ' +\n",
              "          '<a target=\"_blank\" href=https://colab.research.google.com/notebooks/data_table.ipynb>data table notebook</a>'\n",
              "          + ' to learn more about interactive tables.';\n",
              "        element.innerHTML = '';\n",
              "        dataTable['output_type'] = 'display_data';\n",
              "        await google.colab.output.renderOutput(dataTable, element);\n",
              "        const docLink = document.createElement('div');\n",
              "        docLink.innerHTML = docLinkHtml;\n",
              "        element.appendChild(docLink);\n",
              "      }\n",
              "    </script>\n",
              "  </div>\n",
              "\n",
              "\n",
              "    <div id=\"df-22bc3938-d1b1-47c3-aa1d-efc7d85f4b35\">\n",
              "      <button class=\"colab-df-quickchart\" onclick=\"quickchart('df-22bc3938-d1b1-47c3-aa1d-efc7d85f4b35')\"\n",
              "                title=\"Suggest charts\"\n",
              "                style=\"display:none;\">\n",
              "\n",
              "<svg xmlns=\"http://www.w3.org/2000/svg\" height=\"24px\"viewBox=\"0 0 24 24\"\n",
              "     width=\"24px\">\n",
              "    <g>\n",
              "        <path d=\"M19 3H5c-1.1 0-2 .9-2 2v14c0 1.1.9 2 2 2h14c1.1 0 2-.9 2-2V5c0-1.1-.9-2-2-2zM9 17H7v-7h2v7zm4 0h-2V7h2v10zm4 0h-2v-4h2v4z\"/>\n",
              "    </g>\n",
              "</svg>\n",
              "      </button>\n",
              "\n",
              "<style>\n",
              "  .colab-df-quickchart {\n",
              "      --bg-color: #E8F0FE;\n",
              "      --fill-color: #1967D2;\n",
              "      --hover-bg-color: #E2EBFA;\n",
              "      --hover-fill-color: #174EA6;\n",
              "      --disabled-fill-color: #AAA;\n",
              "      --disabled-bg-color: #DDD;\n",
              "  }\n",
              "\n",
              "  [theme=dark] .colab-df-quickchart {\n",
              "      --bg-color: #3B4455;\n",
              "      --fill-color: #D2E3FC;\n",
              "      --hover-bg-color: #434B5C;\n",
              "      --hover-fill-color: #FFFFFF;\n",
              "      --disabled-bg-color: #3B4455;\n",
              "      --disabled-fill-color: #666;\n",
              "  }\n",
              "\n",
              "  .colab-df-quickchart {\n",
              "    background-color: var(--bg-color);\n",
              "    border: none;\n",
              "    border-radius: 50%;\n",
              "    cursor: pointer;\n",
              "    display: none;\n",
              "    fill: var(--fill-color);\n",
              "    height: 32px;\n",
              "    padding: 0;\n",
              "    width: 32px;\n",
              "  }\n",
              "\n",
              "  .colab-df-quickchart:hover {\n",
              "    background-color: var(--hover-bg-color);\n",
              "    box-shadow: 0 1px 2px rgba(60, 64, 67, 0.3), 0 1px 3px 1px rgba(60, 64, 67, 0.15);\n",
              "    fill: var(--button-hover-fill-color);\n",
              "  }\n",
              "\n",
              "  .colab-df-quickchart-complete:disabled,\n",
              "  .colab-df-quickchart-complete:disabled:hover {\n",
              "    background-color: var(--disabled-bg-color);\n",
              "    fill: var(--disabled-fill-color);\n",
              "    box-shadow: none;\n",
              "  }\n",
              "\n",
              "  .colab-df-spinner {\n",
              "    border: 2px solid var(--fill-color);\n",
              "    border-color: transparent;\n",
              "    border-bottom-color: var(--fill-color);\n",
              "    animation:\n",
              "      spin 1s steps(1) infinite;\n",
              "  }\n",
              "\n",
              "  @keyframes spin {\n",
              "    0% {\n",
              "      border-color: transparent;\n",
              "      border-bottom-color: var(--fill-color);\n",
              "      border-left-color: var(--fill-color);\n",
              "    }\n",
              "    20% {\n",
              "      border-color: transparent;\n",
              "      border-left-color: var(--fill-color);\n",
              "      border-top-color: var(--fill-color);\n",
              "    }\n",
              "    30% {\n",
              "      border-color: transparent;\n",
              "      border-left-color: var(--fill-color);\n",
              "      border-top-color: var(--fill-color);\n",
              "      border-right-color: var(--fill-color);\n",
              "    }\n",
              "    40% {\n",
              "      border-color: transparent;\n",
              "      border-right-color: var(--fill-color);\n",
              "      border-top-color: var(--fill-color);\n",
              "    }\n",
              "    60% {\n",
              "      border-color: transparent;\n",
              "      border-right-color: var(--fill-color);\n",
              "    }\n",
              "    80% {\n",
              "      border-color: transparent;\n",
              "      border-right-color: var(--fill-color);\n",
              "      border-bottom-color: var(--fill-color);\n",
              "    }\n",
              "    90% {\n",
              "      border-color: transparent;\n",
              "      border-bottom-color: var(--fill-color);\n",
              "    }\n",
              "  }\n",
              "</style>\n",
              "\n",
              "      <script>\n",
              "        async function quickchart(key) {\n",
              "          const quickchartButtonEl =\n",
              "            document.querySelector('#' + key + ' button');\n",
              "          quickchartButtonEl.disabled = true;  // To prevent multiple clicks.\n",
              "          quickchartButtonEl.classList.add('colab-df-spinner');\n",
              "          try {\n",
              "            const charts = await google.colab.kernel.invokeFunction(\n",
              "                'suggestCharts', [key], {});\n",
              "          } catch (error) {\n",
              "            console.error('Error during call to suggestCharts:', error);\n",
              "          }\n",
              "          quickchartButtonEl.classList.remove('colab-df-spinner');\n",
              "          quickchartButtonEl.classList.add('colab-df-quickchart-complete');\n",
              "        }\n",
              "        (() => {\n",
              "          let quickchartButtonEl =\n",
              "            document.querySelector('#df-22bc3938-d1b1-47c3-aa1d-efc7d85f4b35 button');\n",
              "          quickchartButtonEl.style.display =\n",
              "            google.colab.kernel.accessAllowed ? 'block' : 'none';\n",
              "        })();\n",
              "      </script>\n",
              "    </div>\n",
              "\n",
              "    </div>\n",
              "  </div>\n"
            ],
            "application/vnd.google.colaboratory.intrinsic+json": {
              "type": "dataframe",
              "variable_name": "df"
            }
          },
          "metadata": {},
          "execution_count": 3
        }
      ]
    },
    {
      "cell_type": "code",
      "source": [
        "X=df.iloc[:,1:].values\n",
        "y=df.iloc[:,0].values"
      ],
      "metadata": {
        "id": "3tLOd3NAmaWZ"
      },
      "execution_count": 11,
      "outputs": []
    },
    {
      "cell_type": "markdown",
      "source": [],
      "metadata": {
        "id": "8LZ3rznGVzII"
      }
    },
    {
      "cell_type": "code",
      "source": [
        "X_train, X_test, y_train, y_test = train_test_split(X, y, test_size=0.2, random_state=42)"
      ],
      "metadata": {
        "id": "h_PgdIVymmit"
      },
      "execution_count": 12,
      "outputs": []
    },
    {
      "cell_type": "code",
      "source": [
        "X_train"
      ],
      "metadata": {
        "colab": {
          "base_uri": "https://localhost:8080/"
        },
        "id": "BaKl5y3imkfq",
        "outputId": "70435048-2ad6-4e27-fbc6-d99685b8adef"
      },
      "execution_count": 13,
      "outputs": [
        {
          "output_type": "execute_result",
          "data": {
            "text/plain": [
              "array([[ 0,  0,  0, ...,  0,  0,  0],\n",
              "       [ 0,  0,  0, ...,  0,  0,  0],\n",
              "       [ 0,  0,  0, ...,  0,  0,  0],\n",
              "       ...,\n",
              "       [ 0,  0,  0, ...,  0,  0,  0],\n",
              "       [ 0,  0,  0, ...,  0,  0,  0],\n",
              "       [ 0,  0,  0, ..., 16,  0,  0]])"
            ]
          },
          "metadata": {},
          "execution_count": 13
        }
      ]
    },
    {
      "cell_type": "code",
      "source": [
        "X_train=X_train/255\n",
        "X_test=X_test/255"
      ],
      "metadata": {
        "id": "Pf63-5cdmyfB"
      },
      "execution_count": 14,
      "outputs": []
    },
    {
      "cell_type": "markdown",
      "source": [
        "Pixel values in images usually range 0–255. Dividing by 255 scales them to 0–1, which helps training because neural networks learn more stably when inputs are in a consistent small range. This is simple min-max scaling for image data."
      ],
      "metadata": {
        "id": "TkteOfHdV2Vw"
      }
    },
    {
      "cell_type": "code",
      "source": [
        "X_train"
      ],
      "metadata": {
        "colab": {
          "base_uri": "https://localhost:8080/"
        },
        "id": "dN_QhNSMm5do",
        "outputId": "362b23e7-a036-4cd9-8a24-94169729cd00"
      },
      "execution_count": 15,
      "outputs": [
        {
          "output_type": "execute_result",
          "data": {
            "text/plain": [
              "array([[0.       , 0.       , 0.       , ..., 0.       , 0.       ,\n",
              "        0.       ],\n",
              "       [0.       , 0.       , 0.       , ..., 0.       , 0.       ,\n",
              "        0.       ],\n",
              "       [0.       , 0.       , 0.       , ..., 0.       , 0.       ,\n",
              "        0.       ],\n",
              "       ...,\n",
              "       [0.       , 0.       , 0.       , ..., 0.       , 0.       ,\n",
              "        0.       ],\n",
              "       [0.       , 0.       , 0.       , ..., 0.       , 0.       ,\n",
              "        0.       ],\n",
              "       [0.       , 0.       , 0.       , ..., 0.0627451, 0.       ,\n",
              "        0.       ]])"
            ]
          },
          "metadata": {},
          "execution_count": 15
        }
      ]
    },
    {
      "cell_type": "code",
      "source": [
        "#create a custom dataset\n",
        "class CustomDataset(Dataset):\n",
        "  def __init__(self,features,labels):\n",
        "    self.features=torch.tensor(features,dtype=torch.float32)\n",
        "    self.labels=torch.tensor(labels,dtype=torch.long)\n",
        "  def __len__(self):\n",
        "      return len(self.features)\n",
        "  def __getitem__(self,idx):\n",
        "      return self.features[idx],self.labels[idx]\n"
      ],
      "metadata": {
        "id": "C7lCQJgHm7C9"
      },
      "execution_count": 16,
      "outputs": []
    },
    {
      "cell_type": "code",
      "source": [
        "#creare train test object\n",
        "train_dataset=CustomDataset(X_train,y_train)\n",
        "test_dataset=CustomDataset(X_test,y_test)"
      ],
      "metadata": {
        "id": "8dB5T9C_niR9"
      },
      "execution_count": 17,
      "outputs": []
    },
    {
      "cell_type": "code",
      "source": [
        "train_dataset[0]"
      ],
      "metadata": {
        "colab": {
          "base_uri": "https://localhost:8080/"
        },
        "id": "pHpu-qdSnoKg",
        "outputId": "760419bd-5074-4a8c-e183-b1d8972426fd"
      },
      "execution_count": 18,
      "outputs": [
        {
          "output_type": "execute_result",
          "data": {
            "text/plain": [
              "(tensor([0.0000, 0.0000, 0.0000, 0.0000, 0.0000, 0.0000, 0.0000, 0.0000, 0.0000,\n",
              "         0.0000, 0.0000, 0.0000, 0.0000, 0.0000, 0.0000, 0.0000, 0.0000, 0.0000,\n",
              "         0.0000, 0.0000, 0.0000, 0.0000, 0.0000, 0.0000, 0.0000, 0.0000, 0.0000,\n",
              "         0.0000, 0.0000, 0.0000, 0.0000, 0.0000, 0.0000, 0.0000, 0.0000, 0.0000,\n",
              "         0.0000, 0.0000, 0.0000, 0.0000, 0.0000, 0.0000, 0.0000, 0.0000, 0.0000,\n",
              "         0.0000, 0.0000, 0.0000, 0.0000, 0.0000, 0.0000, 0.0000, 0.0000, 0.0000,\n",
              "         0.0000, 0.0000, 0.0000, 0.0000, 0.0000, 0.0000, 0.0000, 0.0000, 0.0000,\n",
              "         0.0000, 0.0000, 0.0000, 0.0000, 0.0000, 0.0000, 0.0000, 0.0000, 0.0000,\n",
              "         0.0000, 0.0000, 0.0000, 0.0000, 0.0000, 0.0000, 0.0000, 0.0000, 0.0000,\n",
              "         0.0000, 0.0000, 0.0000, 0.0000, 0.0000, 0.0000, 0.0000, 0.0000, 0.0000,\n",
              "         0.0000, 0.0000, 0.0000, 0.0000, 0.0000, 0.0000, 0.0000, 0.0000, 0.0000,\n",
              "         0.0000, 0.0000, 0.0000, 0.0000, 0.0000, 0.0000, 0.0000, 0.0000, 0.0000,\n",
              "         0.0000, 0.0000, 0.0000, 0.0000, 0.0000, 0.0000, 0.0000, 0.0000, 0.0000,\n",
              "         0.0000, 0.0000, 0.0000, 0.0000, 0.0000, 0.0000, 0.0000, 0.0000, 0.0000,\n",
              "         0.0000, 0.0000, 0.0000, 0.0000, 0.0000, 0.0000, 0.0000, 0.0000, 0.0000,\n",
              "         0.0000, 0.0000, 0.0000, 0.0000, 0.0000, 0.0000, 0.0000, 0.0000, 0.0000,\n",
              "         0.0000, 0.0000, 0.0000, 0.0000, 0.0000, 0.0000, 0.0000, 0.0000, 0.0000,\n",
              "         0.0000, 0.0000, 0.0000, 0.0000, 0.0000, 0.0000, 0.0000, 0.0000, 0.0000,\n",
              "         0.0000, 0.0000, 0.0000, 0.0000, 0.0000, 0.0000, 0.0000, 0.0000, 0.0000,\n",
              "         0.0000, 0.0000, 0.0000, 0.0000, 0.0000, 0.0000, 0.0000, 0.0000, 0.0000,\n",
              "         0.0000, 0.0000, 0.0000, 0.0000, 0.0000, 0.0000, 0.0000, 0.0000, 0.0000,\n",
              "         0.0000, 0.0000, 0.0000, 0.0000, 0.0000, 0.0000, 0.0000, 0.0000, 0.0000,\n",
              "         0.0000, 0.0000, 0.0000, 0.0000, 0.0000, 0.0000, 0.0000, 0.0000, 0.0000,\n",
              "         0.0000, 0.0000, 0.0000, 0.0000, 0.0000, 0.0000, 0.0000, 0.0000, 0.0000,\n",
              "         0.0000, 0.0000, 0.0000, 0.0000, 0.0000, 0.0000, 0.0000, 0.0000, 0.0000,\n",
              "         0.0000, 0.0000, 0.0000, 0.0000, 0.0000, 0.0000, 0.0000, 0.0000, 0.0000,\n",
              "         0.0000, 0.0000, 0.0000, 0.0000, 0.0000, 0.0000, 0.0000, 0.0000, 0.0000,\n",
              "         0.0000, 0.0000, 0.0000, 0.0000, 0.0000, 0.0000, 0.0000, 0.0000, 0.0000,\n",
              "         0.0000, 0.0000, 0.0000, 0.0000, 0.0000, 0.0000, 0.0000, 0.0000, 0.0000,\n",
              "         0.0000, 0.0000, 0.0000, 0.0000, 0.0000, 0.0627, 0.2196, 0.2039, 0.0784,\n",
              "         0.1569, 0.2196, 0.0000, 0.0000, 0.0314, 0.0000, 0.0000, 0.0000, 0.0000,\n",
              "         0.0000, 0.0000, 0.0000, 0.0000, 0.0000, 0.0000, 0.0000, 0.0000, 0.0000,\n",
              "         0.0157, 0.0000, 0.0000, 0.0000, 0.0157, 0.0627, 0.3333, 0.5216, 0.4118,\n",
              "         0.2667, 0.2667, 0.4745, 0.0000, 0.0000, 0.0157, 0.0157, 0.0157, 0.0000,\n",
              "         0.0000, 0.0000, 0.0000, 0.0000, 0.0000, 0.0000, 0.0000, 0.0000, 0.0000,\n",
              "         0.0000, 0.0000, 0.0000, 0.0471, 0.2039, 0.3137, 0.3647, 0.0314, 0.0627,\n",
              "         0.2196, 0.1098, 0.3490, 1.0000, 0.0000, 0.0000, 0.0000, 0.0000, 0.0000,\n",
              "         0.0000, 0.6824, 0.1098, 0.0000, 0.0157, 0.0000, 0.0000, 0.0000, 0.0000,\n",
              "         0.0000, 0.0000, 0.1255, 0.2667, 0.3137, 0.2510, 0.1098, 0.0627, 0.1569,\n",
              "         0.1098, 0.0471, 0.1098, 0.0000, 0.4275, 0.6824, 0.2353, 0.0314, 0.0000,\n",
              "         0.0157, 0.4275, 0.6824, 0.1098, 0.0000, 0.0000, 0.0000, 0.0000, 0.0000,\n",
              "         0.0000, 0.1882, 0.2667, 0.1882, 0.0627, 0.1098, 0.0941, 0.0314, 0.0471,\n",
              "         0.0000, 0.0000, 0.0000, 0.1569, 0.8078, 0.0941, 0.0000, 0.1255, 0.6667,\n",
              "         0.6824, 0.6157, 0.6824, 0.6824, 0.2039, 0.0157, 0.1569, 0.1882, 0.2039,\n",
              "         0.1725, 0.3804, 0.1255, 0.0000, 0.1098, 0.1255, 0.0627, 0.0157, 0.0157,\n",
              "         0.0000, 0.0314, 0.3647, 0.6157, 0.5843, 0.7608, 0.8549, 0.4745, 0.1882,\n",
              "         0.7765, 0.6667, 0.4745, 0.6314, 0.6314, 0.4118, 0.2980, 0.4118, 0.1255,\n",
              "         0.0000, 0.1412, 0.5686, 0.0000, 0.2667, 0.1255, 0.0000, 0.0471, 0.1412,\n",
              "         0.1725, 0.3333, 0.5216, 0.7765, 0.9176, 0.8392, 0.7137, 0.8078, 0.8549,\n",
              "         0.6824, 0.8863, 0.6824, 0.3961, 0.5529, 0.6824, 0.4588, 0.2510, 0.2510,\n",
              "         0.3804, 0.2980, 0.3804, 0.5529, 0.2510, 0.4431, 0.2353, 0.1569, 0.0157,\n",
              "         0.1412, 0.3804, 0.8392, 0.7137, 0.6980, 0.6157, 0.4588, 0.4431, 0.5686,\n",
              "         0.7294, 0.6471, 0.7765, 0.7765, 0.5373, 0.5843, 0.6667, 0.4588, 0.4588,\n",
              "         0.4431, 0.3333, 0.2667, 0.2824, 0.3137, 0.3490, 0.3804, 0.3333, 0.3961,\n",
              "         0.3333, 0.2980, 0.3137, 0.2980, 0.2824, 0.2824, 0.2510, 0.2039, 0.2196,\n",
              "         0.2510, 0.2667, 0.3490, 0.3647, 0.3333, 0.2980, 0.2980, 0.3647, 0.4118,\n",
              "         0.1098, 0.2667, 0.4588, 0.5529, 0.4431, 0.4275, 0.3804, 0.3647, 0.3137,\n",
              "         0.3961, 0.4745, 0.4431, 0.4275, 0.3647, 0.3804, 0.3961, 0.4275, 0.4118,\n",
              "         0.3804, 0.3961, 0.3804, 0.3647, 0.3490, 0.3804, 0.4118, 0.3961, 0.3804,\n",
              "         0.4118, 0.0000, 0.0000, 0.0000, 0.1255, 0.3137, 0.2980, 0.3804, 0.3961,\n",
              "         0.4431, 0.4275, 0.3804, 0.3137, 0.3647, 0.4118, 0.3647, 0.3490, 0.3333,\n",
              "         0.3490, 0.3647, 0.3804, 0.3804, 0.3804, 0.3961, 0.4275, 0.4588, 0.3961,\n",
              "         0.4118, 0.3804, 0.0000, 0.0000, 0.0000, 0.0000, 0.0000, 0.0000, 0.0000,\n",
              "         0.0000, 0.0000, 0.0000, 0.0000, 0.0000, 0.0000, 0.0000, 0.0000, 0.0000,\n",
              "         0.0000, 0.0000, 0.0000, 0.0000, 0.0000, 0.0000, 0.0000, 0.0000, 0.0000,\n",
              "         0.0000, 0.0000, 0.0000, 0.0000, 0.0000, 0.0000, 0.0000, 0.0000, 0.0000,\n",
              "         0.0000, 0.0000, 0.0000, 0.0000, 0.0000, 0.0000, 0.0000, 0.0000, 0.0000,\n",
              "         0.0000, 0.0000, 0.0000, 0.0000, 0.0000, 0.0000, 0.0000, 0.0000, 0.0000,\n",
              "         0.0000, 0.0000, 0.0000, 0.0000, 0.0000, 0.0000, 0.0000, 0.0000, 0.0000,\n",
              "         0.0000, 0.0000, 0.0000, 0.0000, 0.0000, 0.0000, 0.0000, 0.0000, 0.0000,\n",
              "         0.0000, 0.0000, 0.0000, 0.0000, 0.0000, 0.0000, 0.0000, 0.0000, 0.0000,\n",
              "         0.0000, 0.0000, 0.0000, 0.0000, 0.0000, 0.0000, 0.0000, 0.0000, 0.0000,\n",
              "         0.0000, 0.0000, 0.0000, 0.0000, 0.0000, 0.0000, 0.0000, 0.0000, 0.0000,\n",
              "         0.0000, 0.0000, 0.0000, 0.0000, 0.0000, 0.0000, 0.0000, 0.0000, 0.0000,\n",
              "         0.0000, 0.0000, 0.0000, 0.0000, 0.0000, 0.0000, 0.0000, 0.0000, 0.0000,\n",
              "         0.0000, 0.0000, 0.0000, 0.0000, 0.0000, 0.0000, 0.0000, 0.0000, 0.0000,\n",
              "         0.0000, 0.0000, 0.0000, 0.0000, 0.0000, 0.0000, 0.0000, 0.0000, 0.0000,\n",
              "         0.0000, 0.0000, 0.0000, 0.0000, 0.0000, 0.0000, 0.0000, 0.0000, 0.0000,\n",
              "         0.0000, 0.0000, 0.0000, 0.0000, 0.0000, 0.0000, 0.0000, 0.0000, 0.0000,\n",
              "         0.0000, 0.0000, 0.0000, 0.0000, 0.0000, 0.0000, 0.0000, 0.0000, 0.0000,\n",
              "         0.0000, 0.0000, 0.0000, 0.0000, 0.0000, 0.0000, 0.0000, 0.0000, 0.0000,\n",
              "         0.0000, 0.0000, 0.0000, 0.0000, 0.0000, 0.0000, 0.0000, 0.0000, 0.0000,\n",
              "         0.0000, 0.0000, 0.0000, 0.0000, 0.0000, 0.0000, 0.0000, 0.0000, 0.0000,\n",
              "         0.0000, 0.0000, 0.0000, 0.0000, 0.0000, 0.0000, 0.0000, 0.0000, 0.0000,\n",
              "         0.0000, 0.0000, 0.0000, 0.0000, 0.0000, 0.0000, 0.0000, 0.0000, 0.0000,\n",
              "         0.0000, 0.0000, 0.0000, 0.0000, 0.0000, 0.0000, 0.0000, 0.0000, 0.0000,\n",
              "         0.0000, 0.0000, 0.0000, 0.0000, 0.0000, 0.0000, 0.0000, 0.0000, 0.0000,\n",
              "         0.0000]),\n",
              " tensor(7))"
            ]
          },
          "metadata": {},
          "execution_count": 18
        }
      ]
    },
    {
      "cell_type": "code",
      "source": [
        "#create train and test loader\n",
        "train_loader=DataLoader(train_dataset,batch_size=32,shuffle=True)\n",
        "test_loader=DataLoader(test_dataset,batch_size=32,shuffle=False)\n"
      ],
      "metadata": {
        "id": "1Q2MZm60n409"
      },
      "execution_count": 19,
      "outputs": []
    },
    {
      "cell_type": "markdown",
      "source": [
        " i wrote a small wrapper class that inherits from PyTorch’s Dataset abstraction.\n",
        "\n",
        " PyTorch training utilities (like DataLoader) expect a Dataset object with __len__ and __getitem__. Converting features/labels to torch.tensor here ensures later code gets tensors directly.\n",
        "\n",
        "\n",
        "__init__: convert NumPy arrays to torch.tensor. Use float32 for inputs and long for labels.\n",
        "\n",
        "__len__: returns number of samples.\n",
        "\n",
        "__getitem__: returns one sample (feature vector, label) by index."
      ],
      "metadata": {
        "id": "VpSZG0fVV_mc"
      }
    },
    {
      "cell_type": "code",
      "source": [
        "# define NN class\n",
        "\n",
        "class MyNN(nn.Module):\n",
        "\n",
        "  def __init__(self, num_features):\n",
        "\n",
        "    super().__init__()\n",
        "    self.model=nn.Sequential(\n",
        "      nn.Linear(784,128),\n",
        "      nn.ReLU(),\n",
        "      nn.Linear(128,64),\n",
        "      nn.ReLU(),\n",
        "      nn.Linear(64,10)\n",
        "  )\n",
        "  def forward(self,x):\n",
        "    return self.model(x)"
      ],
      "metadata": {
        "id": "KTQB8guUoBB7"
      },
      "execution_count": 20,
      "outputs": []
    },
    {
      "cell_type": "markdown",
      "source": [
        "I defined a simple feedforward neural network using nn.Module.\n",
        "\n",
        "This is the core model architecture for the task  a classic multilayer perceptron (MLP) for flattened image classification.\n",
        "\n",
        "\n",
        "nn.Linear(784,128): the input-to-first-hidden fully connected layer. Input size 784 because 28×28 flattened.\n",
        "\n",
        "nn.ReLU(): a non-linear activation. ReLU helps the network learn non-linear patterns.\n",
        "\n",
        "nn.Linear(128,64): second hidden layer with 64 neurons.\n",
        "\n",
        "nn.ReLU(): another non-linearity.\n",
        "\n",
        "nn.Linear(64,10): output layer producing 10 raw scores.\n",
        "\n",
        " I did not put Softmax in the final layer. That’s intentional — nn.CrossEntropyLoss() expects raw logits and applies log_softmax internally. If I added a Softmax myself I could accidentally break the numerical stability or double-apply softmax."
      ],
      "metadata": {
        "id": "SbLto3g9XJkg"
      }
    },
    {
      "cell_type": "code",
      "source": [
        "model=MyNN(X_train.shape[1])\n",
        "#loss function\n",
        "criterion=nn.CrossEntropyLoss()\n",
        "#optimizer\n",
        "optimizer=optim.SGD(model.parameters(),lr=0.1)"
      ],
      "metadata": {
        "id": "zevGv9mRtTqZ"
      },
      "execution_count": 21,
      "outputs": []
    },
    {
      "cell_type": "markdown",
      "source": [
        " I created an instance of the network.\n",
        "\n",
        "X_train.shape[1] is 784 — number of features — but in this implementation the class ignores num_features and hardcodes 784. It still works because the hardcoded sizes match the data."
      ],
      "metadata": {
        "id": "jpgNAQtmXjbM"
      }
    },
    {
      "cell_type": "code",
      "source": [
        "# training loop\n",
        "\n",
        "for epoch in range(100):\n",
        "\n",
        "  total_epoch_loss = 0\n",
        "\n",
        "  for batch_features, batch_labels in train_loader:\n",
        "\n",
        "    # forward pass\n",
        "    outputs = model(batch_features)\n",
        "\n",
        "    # calculate loss\n",
        "    loss = criterion(outputs, batch_labels)\n",
        "\n",
        "    # back pass\n",
        "    optimizer.zero_grad()\n",
        "    loss.backward()\n",
        "\n",
        "    # update grads\n",
        "    optimizer.step()\n",
        "\n",
        "    total_epoch_loss = total_epoch_loss + loss.item()\n",
        "\n",
        "  avg_loss = total_epoch_loss/len(train_loader)\n",
        "  print(f'Epoch: {epoch + 1} , Loss: {avg_loss}')\n"
      ],
      "metadata": {
        "colab": {
          "base_uri": "https://localhost:8080/"
        },
        "id": "3-2SwN_at10e",
        "outputId": "e2e05186-26d5-4caa-b969-323f99d5c995"
      },
      "execution_count": 22,
      "outputs": [
        {
          "output_type": "stream",
          "name": "stdout",
          "text": [
            "Epoch: 1 , Loss: 1.3216368440786999\n",
            "Epoch: 2 , Loss: 0.7793365436792373\n",
            "Epoch: 3 , Loss: 0.6427524652083715\n",
            "Epoch: 4 , Loss: 0.5751657336950302\n",
            "Epoch: 5 , Loss: 0.528180201848348\n",
            "Epoch: 6 , Loss: 0.49528750121593473\n",
            "Epoch: 7 , Loss: 0.4602432996034622\n",
            "Epoch: 8 , Loss: 0.4359459094206492\n",
            "Epoch: 9 , Loss: 0.41829214423894884\n",
            "Epoch: 10 , Loss: 0.3984092291692893\n",
            "Epoch: 11 , Loss: 0.3850264506538709\n",
            "Epoch: 12 , Loss: 0.3722685620188713\n",
            "Epoch: 13 , Loss: 0.3477362078428268\n",
            "Epoch: 14 , Loss: 0.3467242218057315\n",
            "Epoch: 15 , Loss: 0.3138812760512034\n",
            "Epoch: 16 , Loss: 0.3126461291313171\n",
            "Epoch: 17 , Loss: 0.29552092105150224\n",
            "Epoch: 18 , Loss: 0.2857150869568189\n",
            "Epoch: 19 , Loss: 0.27084775785605114\n",
            "Epoch: 20 , Loss: 0.26237100958824155\n",
            "Epoch: 21 , Loss: 0.25756089876095456\n",
            "Epoch: 22 , Loss: 0.24232648963729542\n",
            "Epoch: 23 , Loss: 0.23957946779827277\n",
            "Epoch: 24 , Loss: 0.2261324493587017\n",
            "Epoch: 25 , Loss: 0.2233684351791938\n",
            "Epoch: 26 , Loss: 0.21165308925012746\n",
            "Epoch: 27 , Loss: 0.21910773759086927\n",
            "Epoch: 28 , Loss: 0.21103892110288144\n",
            "Epoch: 29 , Loss: 0.18156708138684433\n",
            "Epoch: 30 , Loss: 0.18886244976272185\n",
            "Epoch: 31 , Loss: 0.19120197057723998\n",
            "Epoch: 32 , Loss: 0.1914620167016983\n",
            "Epoch: 33 , Loss: 0.1758678053940336\n",
            "Epoch: 34 , Loss: 0.17788761181135973\n",
            "Epoch: 35 , Loss: 0.157662669159472\n",
            "Epoch: 36 , Loss: 0.16680870349208513\n",
            "Epoch: 37 , Loss: 0.15528808721651632\n",
            "Epoch: 38 , Loss: 0.14431856885552408\n",
            "Epoch: 39 , Loss: 0.1442228495577971\n",
            "Epoch: 40 , Loss: 0.13288619516184552\n",
            "Epoch: 41 , Loss: 0.135676580692331\n",
            "Epoch: 42 , Loss: 0.14467643752383688\n",
            "Epoch: 43 , Loss: 0.12461728240052859\n",
            "Epoch: 44 , Loss: 0.12559822227805853\n",
            "Epoch: 45 , Loss: 0.10866230014711618\n",
            "Epoch: 46 , Loss: 0.12954869902382293\n",
            "Epoch: 47 , Loss: 0.11017234543959299\n",
            "Epoch: 48 , Loss: 0.11515208431830008\n",
            "Epoch: 49 , Loss: 0.10039059857216974\n",
            "Epoch: 50 , Loss: 0.10084663986538847\n",
            "Epoch: 51 , Loss: 0.08974190000444651\n",
            "Epoch: 52 , Loss: 0.08475546677752087\n",
            "Epoch: 53 , Loss: 0.09427098215247194\n",
            "Epoch: 54 , Loss: 0.09268801522130768\n",
            "Epoch: 55 , Loss: 0.0918927800298358\n",
            "Epoch: 56 , Loss: 0.0889479945662121\n",
            "Epoch: 57 , Loss: 0.07283928324778875\n",
            "Epoch: 58 , Loss: 0.08935849150953193\n",
            "Epoch: 59 , Loss: 0.07462442129229506\n",
            "Epoch: 60 , Loss: 0.0789726735604927\n",
            "Epoch: 61 , Loss: 0.08824706799350679\n",
            "Epoch: 62 , Loss: 0.06006458135942618\n",
            "Epoch: 63 , Loss: 0.08791264206171036\n",
            "Epoch: 64 , Loss: 0.22559133859351277\n",
            "Epoch: 65 , Loss: 0.09637079646190007\n",
            "Epoch: 66 , Loss: 0.11621116815755765\n",
            "Epoch: 67 , Loss: 0.07865453423000872\n",
            "Epoch: 68 , Loss: 0.06934662629850209\n",
            "Epoch: 69 , Loss: 0.07031679789690921\n",
            "Epoch: 70 , Loss: 0.05125938480564703\n",
            "Epoch: 71 , Loss: 0.05311573015681158\n",
            "Epoch: 72 , Loss: 0.04880531335094323\n",
            "Epoch: 73 , Loss: 0.04703562020789832\n",
            "Epoch: 74 , Loss: 0.040777511660320065\n",
            "Epoch: 75 , Loss: 0.04819046132111301\n",
            "Epoch: 76 , Loss: 0.03072676162390659\n",
            "Epoch: 77 , Loss: 0.032312645499284066\n",
            "Epoch: 78 , Loss: 0.03567005050523828\n",
            "Epoch: 79 , Loss: 0.029893570366936427\n",
            "Epoch: 80 , Loss: 0.023853825814827968\n",
            "Epoch: 81 , Loss: 0.048085718614359695\n",
            "Epoch: 82 , Loss: 0.033158210010733456\n",
            "Epoch: 83 , Loss: 0.03151849518840512\n",
            "Epoch: 84 , Loss: 0.022204163090015452\n",
            "Epoch: 85 , Loss: 0.07666023984357405\n",
            "Epoch: 86 , Loss: 0.06685945079972347\n",
            "Epoch: 87 , Loss: 0.018734083388311167\n",
            "Epoch: 88 , Loss: 0.017389200692608332\n",
            "Epoch: 89 , Loss: 0.021070881032307323\n",
            "Epoch: 90 , Loss: 0.06782017603516578\n",
            "Epoch: 91 , Loss: 0.03387275122338906\n",
            "Epoch: 92 , Loss: 0.030707686008730282\n",
            "Epoch: 93 , Loss: 0.013259945363582422\n",
            "Epoch: 94 , Loss: 0.04547278591625703\n",
            "Epoch: 95 , Loss: 0.020045689839559296\n",
            "Epoch: 96 , Loss: 0.021593706752949703\n",
            "Epoch: 97 , Loss: 0.012292747854177529\n",
            "Epoch: 98 , Loss: 0.00892297200523899\n",
            "Epoch: 99 , Loss: 0.009056749793817289\n",
            "Epoch: 100 , Loss: 0.008310633393703028\n"
          ]
        }
      ]
    },
    {
      "cell_type": "markdown",
      "source": [
        "The training loop ran for 100 epochs. For each epoch, I looped over the training data in batches, performed a forward pass through the model to get predictions, calculated the loss, reset the gradients, backpropagated the loss to compute gradients for each weight, and then updated the weights with the optimizer. I kept track of the total loss for the epoch and printed the average loss after each epoch to monitor training progress. Once training was complet"
      ],
      "metadata": {
        "id": "zstNQvuGj-ik"
      }
    },
    {
      "cell_type": "code",
      "source": [
        "# set model to eval mode\n",
        "model.eval()"
      ],
      "metadata": {
        "colab": {
          "base_uri": "https://localhost:8080/"
        },
        "id": "PUYGKhvPvRqp",
        "outputId": "52e0d0ed-453f-4dfc-baa1-2f8962dd5aaa"
      },
      "execution_count": 23,
      "outputs": [
        {
          "output_type": "execute_result",
          "data": {
            "text/plain": [
              "MyNN(\n",
              "  (model): Sequential(\n",
              "    (0): Linear(in_features=784, out_features=128, bias=True)\n",
              "    (1): ReLU()\n",
              "    (2): Linear(in_features=128, out_features=64, bias=True)\n",
              "    (3): ReLU()\n",
              "    (4): Linear(in_features=64, out_features=10, bias=True)\n",
              "  )\n",
              ")"
            ]
          },
          "metadata": {},
          "execution_count": 23
        }
      ]
    },
    {
      "cell_type": "markdown",
      "source": [
        "I switched the model to evaluation mode using model.eval() so it would behave consistently and skip training-specific operations like dropout (even though I didn’t use it here)."
      ],
      "metadata": {
        "id": "unSobpu3ZuXz"
      }
    },
    {
      "cell_type": "code",
      "source": [
        "# evaluation code\n",
        "total = 0\n",
        "correct = 0\n",
        "\n",
        "with torch.no_grad():\n",
        "\n",
        "  for batch_features, batch_labels in test_loader:\n",
        "\n",
        "    outputs = model(batch_features)\n",
        "\n",
        "    _, predicted = torch.max(outputs, 1)\n",
        "\n",
        "    total = total + batch_labels.shape[0]\n",
        "\n",
        "    correct = correct + (predicted == batch_labels).sum().item()\n",
        "\n",
        "print(correct/total)\n"
      ],
      "metadata": {
        "colab": {
          "base_uri": "https://localhost:8080/"
        },
        "id": "xerSwm7Kvd1k",
        "outputId": "ec83be95-069d-441f-c24e-2ccc1468b969"
      },
      "execution_count": 24,
      "outputs": [
        {
          "output_type": "stream",
          "name": "stdout",
          "text": [
            "0.8325\n"
          ]
        }
      ]
    },
    {
      "cell_type": "markdown",
      "source": [
        "In the end, my model achieved about 83% accuracy on the test set. While that’s a solid score for a simple multilayer perceptron, I noticed there was a large gap between my training performance and my test performance, which likely means the model overfitted. Overfitting here probably happened because I trained for many epochs without regularization, and the model had enough capacity to memorize the training data rather than generalize well to unseen examples. The lack of dropout, weight decay, and data augmentation, combined with the relatively small training set, made this more likely. To improve generalization, I could reduce the number of epochs, add dropout layers between hidden layers, apply weight decay in the optimizer, lower the learning rate, or use early stopping based on a validation set. I could also consider loading the data as images and applying simple augmentations like flips or small rotations to give the model more variety to learn from."
      ],
      "metadata": {
        "id": "wIOHJh7pVaa0"
      }
    },
    {
      "cell_type": "markdown",
      "source": [
        "Train the Model on a GPU"
      ],
      "metadata": {
        "id": "IrHhysLFwZpW"
      }
    },
    {
      "cell_type": "code",
      "source": [
        "# Check for GPU\n",
        "device = torch.device('cuda' if torch.cuda.is_available() else 'cpu')\n",
        "print(f\"Using device: {device}\")"
      ],
      "metadata": {
        "colab": {
          "base_uri": "https://localhost:8080/"
        },
        "id": "jN0ciAWGv4Vg",
        "outputId": "c0255f94-405b-481c-b28b-d6a5399d1942"
      },
      "execution_count": 4,
      "outputs": [
        {
          "output_type": "stream",
          "name": "stdout",
          "text": [
            "Using device: cuda\n"
          ]
        }
      ]
    },
    {
      "cell_type": "code",
      "source": [
        "df.shape"
      ],
      "metadata": {
        "colab": {
          "base_uri": "https://localhost:8080/"
        },
        "id": "8E4KTgn2xD2R",
        "outputId": "e5106054-6eea-4e59-c17e-a6c3de3a2fd6"
      },
      "execution_count": 5,
      "outputs": [
        {
          "output_type": "execute_result",
          "data": {
            "text/plain": [
              "(6000, 785)"
            ]
          },
          "metadata": {},
          "execution_count": 5
        }
      ]
    },
    {
      "cell_type": "markdown",
      "source": [
        "run same cell for  train_test_split,customdataset withno changes  as above"
      ],
      "metadata": {
        "id": "haMow3SbyB-e"
      }
    },
    {
      "cell_type": "code",
      "source": [
        "X=df.iloc[:,1:].values\n",
        "y=df.iloc[:,0].values"
      ],
      "metadata": {
        "id": "BnW3FVQyIU95"
      },
      "execution_count": 6,
      "outputs": []
    },
    {
      "cell_type": "code",
      "source": [
        "X_train, X_test, y_train, y_test = train_test_split(X, y, test_size=0.2, random_state=42)"
      ],
      "metadata": {
        "id": "ZqR-bKKlIdoF"
      },
      "execution_count": 7,
      "outputs": []
    },
    {
      "cell_type": "code",
      "source": [
        "X_train = X_train/255.0\n",
        "X_test = X_test/255.0"
      ],
      "metadata": {
        "id": "XPzSHjSoJSJn"
      },
      "execution_count": 10,
      "outputs": []
    },
    {
      "cell_type": "code",
      "source": [
        "#create a custom dataset\n",
        "class CustomDataset(Dataset):\n",
        "  def __init__(self,features,labels):\n",
        "    self.features=torch.tensor(features,dtype=torch.float32)\n",
        "    self.labels=torch.tensor(labels,dtype=torch.long)\n",
        "  def __len__(self):\n",
        "      return len(self.features)\n",
        "  def __getitem__(self,idx):\n",
        "      return self.features[idx],self.labels[idx]\n"
      ],
      "metadata": {
        "id": "sVHryhHzIsD1"
      },
      "execution_count": 11,
      "outputs": []
    },
    {
      "cell_type": "code",
      "source": [
        "train_dataset=CustomDataset(X_train,y_train)\n",
        "test_dataset=CustomDataset(X_test,y_test)"
      ],
      "metadata": {
        "id": "eIVfwbFhIswQ"
      },
      "execution_count": 12,
      "outputs": []
    },
    {
      "cell_type": "code",
      "source": [
        "train_loader = DataLoader(train_dataset, batch_size=32, shuffle=True, pin_memory=True)\n",
        "test_loader = DataLoader(test_dataset, batch_size=32, shuffle=False, pin_memory=True)"
      ],
      "metadata": {
        "id": "_etEvfBCIvQM"
      },
      "execution_count": 13,
      "outputs": []
    },
    {
      "cell_type": "code",
      "source": [
        "# define NN class\n",
        "\n",
        "class MyNN(nn.Module):\n",
        "\n",
        "  def __init__(self, num_features):\n",
        "\n",
        "    super().__init__()\n",
        "    self.model=nn.Sequential(\n",
        "      nn.Linear(784,128),\n",
        "      nn.ReLU(),\n",
        "      nn.Linear(128,64),\n",
        "      nn.ReLU(),\n",
        "      nn.Linear(64,10)\n",
        "  )\n",
        "  def forward(self,x):\n",
        "    return self.model(x)"
      ],
      "metadata": {
        "id": "DIUo1GoGy2iW"
      },
      "execution_count": 14,
      "outputs": []
    },
    {
      "cell_type": "code",
      "source": [
        "# instatiate the model\n",
        "model = MyNN(X_train.shape[1])\n",
        "model = model.to(device)\n",
        "# loss function\n",
        "criterion = nn.CrossEntropyLoss()\n",
        "# optimizer\n",
        "optimizer = optim.SGD(model.parameters(), lr=0.1)"
      ],
      "metadata": {
        "id": "emsoq-DSyvHI"
      },
      "execution_count": 15,
      "outputs": []
    },
    {
      "cell_type": "markdown",
      "source": [
        "The first thing I did was check if my system actually had a GPU available. In PyTorch, I can do this by calling torch.cuda.is_available().Once I had my device ready, I needed to move the model to it.\n",
        "The .to(device) call tells PyTorch to put all the model’s parameters and buffers in GPU memory instead of CPU memory. This step is crucial because in PyTorch, the model and the data have to be on the same device to work together — if the model is on the GPU but the data is still on the CPU (or vice versa), I’ll get a runtime error.\n",
        "\n",
        "That’s why inside my training loop, I also moved the data to the GPU. Specifically, before the forward pass, I did:"
      ],
      "metadata": {
        "id": "gGADtdqabMzg"
      }
    },
    {
      "cell_type": "code",
      "source": [
        "# training loop\n",
        "# Lists to store metrics\n",
        "\n",
        "for epoch in range(100):\n",
        "\n",
        "  total_epoch_loss = 0\n",
        "\n",
        "  for batch_features, batch_labels in train_loader:\n",
        "\n",
        "    # move data to gpu\n",
        "    batch_features, batch_labels = batch_features.to(device), batch_labels.to(device)\n",
        "\n",
        "    # forward pass\n",
        "    outputs = model(batch_features)\n",
        "\n",
        "    # calculate loss\n",
        "    loss = criterion(outputs, batch_labels)\n",
        "\n",
        "    # back pass\n",
        "    optimizer.zero_grad()\n",
        "    loss.backward()\n",
        "\n",
        "    # update grads\n",
        "    optimizer.step()\n",
        "\n",
        "    total_epoch_loss = total_epoch_loss + loss.item()\n",
        "\n",
        "  avg_loss = total_epoch_loss/len(train_loader)\n",
        "  print(f'Epoch: {epoch + 1} , Loss: {avg_loss}')\n"
      ],
      "metadata": {
        "colab": {
          "base_uri": "https://localhost:8080/"
        },
        "id": "3Op8xlJSy81N",
        "outputId": "104256d9-71fb-43a4-fb38-3ae6f0de5fa5"
      },
      "execution_count": 19,
      "outputs": [
        {
          "output_type": "stream",
          "name": "stdout",
          "text": [
            "Epoch: 1 , Loss: 0.10086416547186673\n",
            "Epoch: 2 , Loss: 0.12070436651508014\n",
            "Epoch: 3 , Loss: 0.09302593808621168\n",
            "Epoch: 4 , Loss: 0.0915061990575244\n",
            "Epoch: 5 , Loss: 0.08757391361674914\n",
            "Epoch: 6 , Loss: 0.08153690076743562\n",
            "Epoch: 7 , Loss: 0.08096778663806617\n",
            "Epoch: 8 , Loss: 0.10886114708458385\n",
            "Epoch: 9 , Loss: 0.08401722920437654\n",
            "Epoch: 10 , Loss: 0.1011767091252841\n",
            "Epoch: 11 , Loss: 0.09481789293698967\n",
            "Epoch: 12 , Loss: 0.08205471583021184\n",
            "Epoch: 13 , Loss: 0.07282975736617421\n",
            "Epoch: 14 , Loss: 0.06590050311448674\n",
            "Epoch: 15 , Loss: 0.06798070936618994\n",
            "Epoch: 16 , Loss: 0.12533915896434336\n",
            "Epoch: 17 , Loss: 0.07153460377516846\n",
            "Epoch: 18 , Loss: 0.05578662819229066\n",
            "Epoch: 19 , Loss: 0.054078870173543694\n",
            "Epoch: 20 , Loss: 0.0870194781695803\n",
            "Epoch: 21 , Loss: 0.07275333489912252\n",
            "Epoch: 22 , Loss: 0.07761112179917594\n",
            "Epoch: 23 , Loss: 0.06141205617925152\n",
            "Epoch: 24 , Loss: 0.0642195174183386\n",
            "Epoch: 25 , Loss: 0.04760779161627094\n",
            "Epoch: 26 , Loss: 0.04796146646646472\n",
            "Epoch: 27 , Loss: 0.04898826530280834\n",
            "Epoch: 28 , Loss: 0.04924165668897331\n",
            "Epoch: 29 , Loss: 0.046364460015514246\n",
            "Epoch: 30 , Loss: 0.09874210951228936\n",
            "Epoch: 31 , Loss: 0.07769587342549736\n",
            "Epoch: 32 , Loss: 0.07016108059867596\n",
            "Epoch: 33 , Loss: 0.0687995141550588\n",
            "Epoch: 34 , Loss: 0.06875567044209067\n",
            "Epoch: 35 , Loss: 0.04044425734784454\n",
            "Epoch: 36 , Loss: 0.03637291780284917\n",
            "Epoch: 37 , Loss: 0.043366768881678584\n",
            "Epoch: 38 , Loss: 0.029190738026906426\n",
            "Epoch: 39 , Loss: 0.0488100663277631\n",
            "Epoch: 40 , Loss: 0.02816530392738059\n",
            "Epoch: 41 , Loss: 0.022506745758776862\n",
            "Epoch: 42 , Loss: 0.034222855197731404\n",
            "Epoch: 43 , Loss: 0.03516868840185149\n",
            "Epoch: 44 , Loss: 0.032255018493160606\n",
            "Epoch: 45 , Loss: 0.03923209133053509\n",
            "Epoch: 46 , Loss: 0.07019767231540755\n",
            "Epoch: 47 , Loss: 0.028696933441873018\n",
            "Epoch: 48 , Loss: 0.04932563951859872\n",
            "Epoch: 49 , Loss: 0.017556823448782476\n",
            "Epoch: 50 , Loss: 0.013071377644858634\n",
            "Epoch: 51 , Loss: 0.0494906127328674\n",
            "Epoch: 52 , Loss: 0.06482831247073288\n",
            "Epoch: 53 , Loss: 0.01841191647807136\n",
            "Epoch: 54 , Loss: 0.05890637462764668\n",
            "Epoch: 55 , Loss: 0.04317995186216043\n",
            "Epoch: 56 , Loss: 0.02890387218038086\n",
            "Epoch: 57 , Loss: 0.02805375501823922\n",
            "Epoch: 58 , Loss: 0.07160564716342681\n",
            "Epoch: 59 , Loss: 0.06535536142531782\n",
            "Epoch: 60 , Loss: 0.05566849651591232\n",
            "Epoch: 61 , Loss: 0.030342738164569408\n",
            "Epoch: 62 , Loss: 0.02396054417748625\n",
            "Epoch: 63 , Loss: 0.01506292182331284\n",
            "Epoch: 64 , Loss: 0.00571233753405977\n",
            "Epoch: 65 , Loss: 0.005463867333019152\n",
            "Epoch: 66 , Loss: 0.0063446067242572705\n",
            "Epoch: 67 , Loss: 0.003825694881064313\n",
            "Epoch: 68 , Loss: 0.0028346967667554662\n",
            "Epoch: 69 , Loss: 0.0026652513604009677\n",
            "Epoch: 70 , Loss: 0.002392228739966716\n",
            "Epoch: 71 , Loss: 0.002554712365429926\n",
            "Epoch: 72 , Loss: 0.00298715291894041\n",
            "Epoch: 73 , Loss: 0.002174079809434867\n",
            "Epoch: 74 , Loss: 0.001954226593734347\n",
            "Epoch: 75 , Loss: 0.001971608810611845\n",
            "Epoch: 76 , Loss: 0.0022369568056213513\n",
            "Epoch: 77 , Loss: 0.0016787373920669779\n",
            "Epoch: 78 , Loss: 0.0014892413522466085\n",
            "Epoch: 79 , Loss: 0.0015925607673610406\n",
            "Epoch: 80 , Loss: 0.0018053634116464916\n",
            "Epoch: 81 , Loss: 0.0014303416032150078\n",
            "Epoch: 82 , Loss: 0.0013760717429492312\n",
            "Epoch: 83 , Loss: 0.00128449778414506\n",
            "Epoch: 84 , Loss: 0.0012489174831231745\n",
            "Epoch: 85 , Loss: 0.0012745826290726351\n",
            "Epoch: 86 , Loss: 0.0012570280257690077\n",
            "Epoch: 87 , Loss: 0.0012673256470103903\n",
            "Epoch: 88 , Loss: 0.0012139735900564119\n",
            "Epoch: 89 , Loss: 0.0011190909270953854\n",
            "Epoch: 90 , Loss: 0.0011408834657049738\n",
            "Epoch: 91 , Loss: 0.0010834696936459901\n",
            "Epoch: 92 , Loss: 0.0010909176500960409\n",
            "Epoch: 93 , Loss: 0.0011040470759083594\n",
            "Epoch: 94 , Loss: 0.0010433654271764681\n",
            "Epoch: 95 , Loss: 0.0010913610789672627\n",
            "Epoch: 96 , Loss: 0.0010704047629163445\n",
            "Epoch: 97 , Loss: 0.0010417936457088218\n",
            "Epoch: 98 , Loss: 0.0010422829025386212\n",
            "Epoch: 99 , Loss: 0.0010093141072138679\n",
            "Epoch: 100 , Loss: 0.0010373963954043574\n"
          ]
        }
      ]
    },
    {
      "cell_type": "markdown",
      "source": [
        "batch_features = batch_features.to(device)\n",
        "batch_labels = batch_labels.to(device)\n",
        "This ensures that both the features and labels are stored in GPU memory so they can interact directly with the model during training. I made the same change in the evaluation loop, moving test data batches to the GPU before making predictions.\n",
        "\n",
        "With these changes in place, I trained the model again for the same number of epochs. I immediately noticed that each epoch finished noticeably faster  this is because GPUs are optimized.On my dataset, the training speed improvement wasn’t dramatic (since Fashion MNIST is relatively small)"
      ],
      "metadata": {
        "id": "yfITGYbZbidE"
      }
    },
    {
      "cell_type": "code",
      "source": [
        "model.eval()"
      ],
      "metadata": {
        "colab": {
          "base_uri": "https://localhost:8080/"
        },
        "id": "Tu0egQ4uzGYw",
        "outputId": "0284b33c-cdaf-4137-fa5c-22495c69dc63"
      },
      "execution_count": 20,
      "outputs": [
        {
          "output_type": "execute_result",
          "data": {
            "text/plain": [
              "MyNN(\n",
              "  (model): Sequential(\n",
              "    (0): Linear(in_features=784, out_features=128, bias=True)\n",
              "    (1): BatchNorm1d(128, eps=1e-05, momentum=0.1, affine=True, track_running_stats=True)\n",
              "    (2): ReLU()\n",
              "    (3): Dropout(p=0.5, inplace=False)\n",
              "    (4): Linear(in_features=128, out_features=64, bias=True)\n",
              "    (5): BatchNorm1d(64, eps=1e-05, momentum=0.1, affine=True, track_running_stats=True)\n",
              "    (6): ReLU()\n",
              "    (7): Dropout(p=0.5, inplace=False)\n",
              "    (8): Linear(in_features=64, out_features=10, bias=True)\n",
              "  )\n",
              ")"
            ]
          },
          "metadata": {},
          "execution_count": 20
        }
      ]
    },
    {
      "cell_type": "code",
      "source": [
        "# evaluation code\n",
        "total = 0\n",
        "correct = 0\n",
        "\n",
        "with torch.no_grad():\n",
        "\n",
        "  for batch_features, batch_labels in test_loader:\n",
        "\n",
        "    # move data to gpu\n",
        "    batch_features, batch_labels = batch_features.to(device), batch_labels.to(device)\n",
        "\n",
        "    outputs = model(batch_features)\n",
        "\n",
        "    _, predicted = torch.max(outputs, 1)\n",
        "\n",
        "    total = total + batch_labels.shape[0]\n",
        "\n",
        "    correct = correct + (predicted == batch_labels).sum().item()\n",
        "\n",
        "print(correct/total)"
      ],
      "metadata": {
        "colab": {
          "base_uri": "https://localhost:8080/"
        },
        "id": "rh__pm-UzHIh",
        "outputId": "4c24561a-d2b4-4e2e-b29b-ac8da022e6d8"
      },
      "execution_count": 21,
      "outputs": [
        {
          "output_type": "stream",
          "name": "stdout",
          "text": [
            "0.8483333333333334\n"
          ]
        }
      ]
    },
    {
      "cell_type": "markdown",
      "source": [
        "my test accuracy improved by about 1% compared to my CPU run However, GPU training allows for faster processing, which can improve stability when using larger batch sizes or more complex operations. In my case, the slight improvement likely came from small differences in floating-point precision and the fact that the GPU finished training more consistently without the small CPU-related slowdowns."
      ],
      "metadata": {
        "id": "bGNgl2v4b1wh"
      }
    },
    {
      "cell_type": "markdown",
      "source": [
        "In summary, the main changes were adding a device variable to select GPU or CPU automatically, moving the model to the GPU with .to(device), and ensuring that both the training and testing data batches were also moved to the same device before use. The result was faster training"
      ],
      "metadata": {
        "id": "b_tE3JwTcIvX"
      }
    },
    {
      "cell_type": "markdown",
      "source": [
        "Optimizing the Neural Network to Reduce Overfitting"
      ],
      "metadata": {
        "id": "_KjAjKumzbxe"
      }
    },
    {
      "cell_type": "code",
      "source": [
        "import pandas as pd\n",
        "from sklearn.model_selection import train_test_split\n",
        "import torch\n",
        "from torch.utils.data import Dataset, DataLoader\n",
        "import torch.nn as nn\n",
        "import torch.optim as optim\n",
        "import matplotlib.pyplot as plt"
      ],
      "metadata": {
        "id": "QB9tFEBdKJFS"
      },
      "execution_count": 1,
      "outputs": []
    },
    {
      "cell_type": "code",
      "source": [
        "# Set random seeds for reproducibility\n",
        "torch.manual_seed(42)"
      ],
      "metadata": {
        "colab": {
          "base_uri": "https://localhost:8080/"
        },
        "id": "OTAgxCYsKR5C",
        "outputId": "3f922cc7-ced7-42dc-c5d9-ad7f465415c6"
      },
      "execution_count": 2,
      "outputs": [
        {
          "output_type": "execute_result",
          "data": {
            "text/plain": [
              "<torch._C.Generator at 0x7f5e5cba16b0>"
            ]
          },
          "metadata": {},
          "execution_count": 2
        }
      ]
    },
    {
      "cell_type": "code",
      "source": [
        "# Check for GPU\n",
        "device = torch.device('cuda' if torch.cuda.is_available() else 'cpu')\n",
        "print(f\"Using device: {device}\")"
      ],
      "metadata": {
        "colab": {
          "base_uri": "https://localhost:8080/"
        },
        "id": "l2HE5IRyKT0e",
        "outputId": "312175db-24c6-4525-863c-f38567fa1810"
      },
      "execution_count": 3,
      "outputs": [
        {
          "output_type": "stream",
          "name": "stdout",
          "text": [
            "Using device: cuda\n"
          ]
        }
      ]
    },
    {
      "cell_type": "code",
      "source": [
        "df = pd.read_csv('/content/fmnist_small.csv')\n",
        "df.head()"
      ],
      "metadata": {
        "colab": {
          "base_uri": "https://localhost:8080/",
          "height": 255
        },
        "id": "GNI8BQazKVCL",
        "outputId": "2dc6fb87-5cb8-4534-e287-0d94ff3ecc49"
      },
      "execution_count": 4,
      "outputs": [
        {
          "output_type": "execute_result",
          "data": {
            "text/plain": [
              "   label  pixel1  pixel2  pixel3  pixel4  pixel5  pixel6  pixel7  pixel8  \\\n",
              "0      9       0       0       0       0       0       0       0       0   \n",
              "1      7       0       0       0       0       0       0       0       0   \n",
              "2      0       0       0       0       0       0       1       0       0   \n",
              "3      8       0       0       0       0       0       0       0       0   \n",
              "4      8       0       0       0       0       0       0       0       0   \n",
              "\n",
              "   pixel9  ...  pixel775  pixel776  pixel777  pixel778  pixel779  pixel780  \\\n",
              "0       0  ...       0.0       7.0       0.0      50.0     205.0     196.0   \n",
              "1       0  ...       0.0       0.0       0.0       0.0       0.0       0.0   \n",
              "2       0  ...     142.0     142.0     142.0      21.0       0.0       3.0   \n",
              "3       0  ...       0.0       0.0       0.0       0.0       0.0       0.0   \n",
              "4       0  ...     213.0     203.0     174.0     151.0     188.0      10.0   \n",
              "\n",
              "   pixel781  pixel782  pixel783  pixel784  \n",
              "0     213.0     165.0       0.0       0.0  \n",
              "1       0.0       0.0       0.0       0.0  \n",
              "2       0.0       0.0       0.0       0.0  \n",
              "3       0.0       0.0       0.0       0.0  \n",
              "4       0.0       0.0       0.0       0.0  \n",
              "\n",
              "[5 rows x 785 columns]"
            ],
            "text/html": [
              "\n",
              "  <div id=\"df-b618d2e2-7c75-41b4-a7d9-934b5d2ebbe2\" class=\"colab-df-container\">\n",
              "    <div>\n",
              "<style scoped>\n",
              "    .dataframe tbody tr th:only-of-type {\n",
              "        vertical-align: middle;\n",
              "    }\n",
              "\n",
              "    .dataframe tbody tr th {\n",
              "        vertical-align: top;\n",
              "    }\n",
              "\n",
              "    .dataframe thead th {\n",
              "        text-align: right;\n",
              "    }\n",
              "</style>\n",
              "<table border=\"1\" class=\"dataframe\">\n",
              "  <thead>\n",
              "    <tr style=\"text-align: right;\">\n",
              "      <th></th>\n",
              "      <th>label</th>\n",
              "      <th>pixel1</th>\n",
              "      <th>pixel2</th>\n",
              "      <th>pixel3</th>\n",
              "      <th>pixel4</th>\n",
              "      <th>pixel5</th>\n",
              "      <th>pixel6</th>\n",
              "      <th>pixel7</th>\n",
              "      <th>pixel8</th>\n",
              "      <th>pixel9</th>\n",
              "      <th>...</th>\n",
              "      <th>pixel775</th>\n",
              "      <th>pixel776</th>\n",
              "      <th>pixel777</th>\n",
              "      <th>pixel778</th>\n",
              "      <th>pixel779</th>\n",
              "      <th>pixel780</th>\n",
              "      <th>pixel781</th>\n",
              "      <th>pixel782</th>\n",
              "      <th>pixel783</th>\n",
              "      <th>pixel784</th>\n",
              "    </tr>\n",
              "  </thead>\n",
              "  <tbody>\n",
              "    <tr>\n",
              "      <th>0</th>\n",
              "      <td>9</td>\n",
              "      <td>0</td>\n",
              "      <td>0</td>\n",
              "      <td>0</td>\n",
              "      <td>0</td>\n",
              "      <td>0</td>\n",
              "      <td>0</td>\n",
              "      <td>0</td>\n",
              "      <td>0</td>\n",
              "      <td>0</td>\n",
              "      <td>...</td>\n",
              "      <td>0.0</td>\n",
              "      <td>7.0</td>\n",
              "      <td>0.0</td>\n",
              "      <td>50.0</td>\n",
              "      <td>205.0</td>\n",
              "      <td>196.0</td>\n",
              "      <td>213.0</td>\n",
              "      <td>165.0</td>\n",
              "      <td>0.0</td>\n",
              "      <td>0.0</td>\n",
              "    </tr>\n",
              "    <tr>\n",
              "      <th>1</th>\n",
              "      <td>7</td>\n",
              "      <td>0</td>\n",
              "      <td>0</td>\n",
              "      <td>0</td>\n",
              "      <td>0</td>\n",
              "      <td>0</td>\n",
              "      <td>0</td>\n",
              "      <td>0</td>\n",
              "      <td>0</td>\n",
              "      <td>0</td>\n",
              "      <td>...</td>\n",
              "      <td>0.0</td>\n",
              "      <td>0.0</td>\n",
              "      <td>0.0</td>\n",
              "      <td>0.0</td>\n",
              "      <td>0.0</td>\n",
              "      <td>0.0</td>\n",
              "      <td>0.0</td>\n",
              "      <td>0.0</td>\n",
              "      <td>0.0</td>\n",
              "      <td>0.0</td>\n",
              "    </tr>\n",
              "    <tr>\n",
              "      <th>2</th>\n",
              "      <td>0</td>\n",
              "      <td>0</td>\n",
              "      <td>0</td>\n",
              "      <td>0</td>\n",
              "      <td>0</td>\n",
              "      <td>0</td>\n",
              "      <td>1</td>\n",
              "      <td>0</td>\n",
              "      <td>0</td>\n",
              "      <td>0</td>\n",
              "      <td>...</td>\n",
              "      <td>142.0</td>\n",
              "      <td>142.0</td>\n",
              "      <td>142.0</td>\n",
              "      <td>21.0</td>\n",
              "      <td>0.0</td>\n",
              "      <td>3.0</td>\n",
              "      <td>0.0</td>\n",
              "      <td>0.0</td>\n",
              "      <td>0.0</td>\n",
              "      <td>0.0</td>\n",
              "    </tr>\n",
              "    <tr>\n",
              "      <th>3</th>\n",
              "      <td>8</td>\n",
              "      <td>0</td>\n",
              "      <td>0</td>\n",
              "      <td>0</td>\n",
              "      <td>0</td>\n",
              "      <td>0</td>\n",
              "      <td>0</td>\n",
              "      <td>0</td>\n",
              "      <td>0</td>\n",
              "      <td>0</td>\n",
              "      <td>...</td>\n",
              "      <td>0.0</td>\n",
              "      <td>0.0</td>\n",
              "      <td>0.0</td>\n",
              "      <td>0.0</td>\n",
              "      <td>0.0</td>\n",
              "      <td>0.0</td>\n",
              "      <td>0.0</td>\n",
              "      <td>0.0</td>\n",
              "      <td>0.0</td>\n",
              "      <td>0.0</td>\n",
              "    </tr>\n",
              "    <tr>\n",
              "      <th>4</th>\n",
              "      <td>8</td>\n",
              "      <td>0</td>\n",
              "      <td>0</td>\n",
              "      <td>0</td>\n",
              "      <td>0</td>\n",
              "      <td>0</td>\n",
              "      <td>0</td>\n",
              "      <td>0</td>\n",
              "      <td>0</td>\n",
              "      <td>0</td>\n",
              "      <td>...</td>\n",
              "      <td>213.0</td>\n",
              "      <td>203.0</td>\n",
              "      <td>174.0</td>\n",
              "      <td>151.0</td>\n",
              "      <td>188.0</td>\n",
              "      <td>10.0</td>\n",
              "      <td>0.0</td>\n",
              "      <td>0.0</td>\n",
              "      <td>0.0</td>\n",
              "      <td>0.0</td>\n",
              "    </tr>\n",
              "  </tbody>\n",
              "</table>\n",
              "<p>5 rows × 785 columns</p>\n",
              "</div>\n",
              "    <div class=\"colab-df-buttons\">\n",
              "\n",
              "  <div class=\"colab-df-container\">\n",
              "    <button class=\"colab-df-convert\" onclick=\"convertToInteractive('df-b618d2e2-7c75-41b4-a7d9-934b5d2ebbe2')\"\n",
              "            title=\"Convert this dataframe to an interactive table.\"\n",
              "            style=\"display:none;\">\n",
              "\n",
              "  <svg xmlns=\"http://www.w3.org/2000/svg\" height=\"24px\" viewBox=\"0 -960 960 960\">\n",
              "    <path d=\"M120-120v-720h720v720H120Zm60-500h600v-160H180v160Zm220 220h160v-160H400v160Zm0 220h160v-160H400v160ZM180-400h160v-160H180v160Zm440 0h160v-160H620v160ZM180-180h160v-160H180v160Zm440 0h160v-160H620v160Z\"/>\n",
              "  </svg>\n",
              "    </button>\n",
              "\n",
              "  <style>\n",
              "    .colab-df-container {\n",
              "      display:flex;\n",
              "      gap: 12px;\n",
              "    }\n",
              "\n",
              "    .colab-df-convert {\n",
              "      background-color: #E8F0FE;\n",
              "      border: none;\n",
              "      border-radius: 50%;\n",
              "      cursor: pointer;\n",
              "      display: none;\n",
              "      fill: #1967D2;\n",
              "      height: 32px;\n",
              "      padding: 0 0 0 0;\n",
              "      width: 32px;\n",
              "    }\n",
              "\n",
              "    .colab-df-convert:hover {\n",
              "      background-color: #E2EBFA;\n",
              "      box-shadow: 0px 1px 2px rgba(60, 64, 67, 0.3), 0px 1px 3px 1px rgba(60, 64, 67, 0.15);\n",
              "      fill: #174EA6;\n",
              "    }\n",
              "\n",
              "    .colab-df-buttons div {\n",
              "      margin-bottom: 4px;\n",
              "    }\n",
              "\n",
              "    [theme=dark] .colab-df-convert {\n",
              "      background-color: #3B4455;\n",
              "      fill: #D2E3FC;\n",
              "    }\n",
              "\n",
              "    [theme=dark] .colab-df-convert:hover {\n",
              "      background-color: #434B5C;\n",
              "      box-shadow: 0px 1px 3px 1px rgba(0, 0, 0, 0.15);\n",
              "      filter: drop-shadow(0px 1px 2px rgba(0, 0, 0, 0.3));\n",
              "      fill: #FFFFFF;\n",
              "    }\n",
              "  </style>\n",
              "\n",
              "    <script>\n",
              "      const buttonEl =\n",
              "        document.querySelector('#df-b618d2e2-7c75-41b4-a7d9-934b5d2ebbe2 button.colab-df-convert');\n",
              "      buttonEl.style.display =\n",
              "        google.colab.kernel.accessAllowed ? 'block' : 'none';\n",
              "\n",
              "      async function convertToInteractive(key) {\n",
              "        const element = document.querySelector('#df-b618d2e2-7c75-41b4-a7d9-934b5d2ebbe2');\n",
              "        const dataTable =\n",
              "          await google.colab.kernel.invokeFunction('convertToInteractive',\n",
              "                                                    [key], {});\n",
              "        if (!dataTable) return;\n",
              "\n",
              "        const docLinkHtml = 'Like what you see? Visit the ' +\n",
              "          '<a target=\"_blank\" href=https://colab.research.google.com/notebooks/data_table.ipynb>data table notebook</a>'\n",
              "          + ' to learn more about interactive tables.';\n",
              "        element.innerHTML = '';\n",
              "        dataTable['output_type'] = 'display_data';\n",
              "        await google.colab.output.renderOutput(dataTable, element);\n",
              "        const docLink = document.createElement('div');\n",
              "        docLink.innerHTML = docLinkHtml;\n",
              "        element.appendChild(docLink);\n",
              "      }\n",
              "    </script>\n",
              "  </div>\n",
              "\n",
              "\n",
              "    <div id=\"df-d813b20b-727a-4721-aaff-d397228f0d31\">\n",
              "      <button class=\"colab-df-quickchart\" onclick=\"quickchart('df-d813b20b-727a-4721-aaff-d397228f0d31')\"\n",
              "                title=\"Suggest charts\"\n",
              "                style=\"display:none;\">\n",
              "\n",
              "<svg xmlns=\"http://www.w3.org/2000/svg\" height=\"24px\"viewBox=\"0 0 24 24\"\n",
              "     width=\"24px\">\n",
              "    <g>\n",
              "        <path d=\"M19 3H5c-1.1 0-2 .9-2 2v14c0 1.1.9 2 2 2h14c1.1 0 2-.9 2-2V5c0-1.1-.9-2-2-2zM9 17H7v-7h2v7zm4 0h-2V7h2v10zm4 0h-2v-4h2v4z\"/>\n",
              "    </g>\n",
              "</svg>\n",
              "      </button>\n",
              "\n",
              "<style>\n",
              "  .colab-df-quickchart {\n",
              "      --bg-color: #E8F0FE;\n",
              "      --fill-color: #1967D2;\n",
              "      --hover-bg-color: #E2EBFA;\n",
              "      --hover-fill-color: #174EA6;\n",
              "      --disabled-fill-color: #AAA;\n",
              "      --disabled-bg-color: #DDD;\n",
              "  }\n",
              "\n",
              "  [theme=dark] .colab-df-quickchart {\n",
              "      --bg-color: #3B4455;\n",
              "      --fill-color: #D2E3FC;\n",
              "      --hover-bg-color: #434B5C;\n",
              "      --hover-fill-color: #FFFFFF;\n",
              "      --disabled-bg-color: #3B4455;\n",
              "      --disabled-fill-color: #666;\n",
              "  }\n",
              "\n",
              "  .colab-df-quickchart {\n",
              "    background-color: var(--bg-color);\n",
              "    border: none;\n",
              "    border-radius: 50%;\n",
              "    cursor: pointer;\n",
              "    display: none;\n",
              "    fill: var(--fill-color);\n",
              "    height: 32px;\n",
              "    padding: 0;\n",
              "    width: 32px;\n",
              "  }\n",
              "\n",
              "  .colab-df-quickchart:hover {\n",
              "    background-color: var(--hover-bg-color);\n",
              "    box-shadow: 0 1px 2px rgba(60, 64, 67, 0.3), 0 1px 3px 1px rgba(60, 64, 67, 0.15);\n",
              "    fill: var(--button-hover-fill-color);\n",
              "  }\n",
              "\n",
              "  .colab-df-quickchart-complete:disabled,\n",
              "  .colab-df-quickchart-complete:disabled:hover {\n",
              "    background-color: var(--disabled-bg-color);\n",
              "    fill: var(--disabled-fill-color);\n",
              "    box-shadow: none;\n",
              "  }\n",
              "\n",
              "  .colab-df-spinner {\n",
              "    border: 2px solid var(--fill-color);\n",
              "    border-color: transparent;\n",
              "    border-bottom-color: var(--fill-color);\n",
              "    animation:\n",
              "      spin 1s steps(1) infinite;\n",
              "  }\n",
              "\n",
              "  @keyframes spin {\n",
              "    0% {\n",
              "      border-color: transparent;\n",
              "      border-bottom-color: var(--fill-color);\n",
              "      border-left-color: var(--fill-color);\n",
              "    }\n",
              "    20% {\n",
              "      border-color: transparent;\n",
              "      border-left-color: var(--fill-color);\n",
              "      border-top-color: var(--fill-color);\n",
              "    }\n",
              "    30% {\n",
              "      border-color: transparent;\n",
              "      border-left-color: var(--fill-color);\n",
              "      border-top-color: var(--fill-color);\n",
              "      border-right-color: var(--fill-color);\n",
              "    }\n",
              "    40% {\n",
              "      border-color: transparent;\n",
              "      border-right-color: var(--fill-color);\n",
              "      border-top-color: var(--fill-color);\n",
              "    }\n",
              "    60% {\n",
              "      border-color: transparent;\n",
              "      border-right-color: var(--fill-color);\n",
              "    }\n",
              "    80% {\n",
              "      border-color: transparent;\n",
              "      border-right-color: var(--fill-color);\n",
              "      border-bottom-color: var(--fill-color);\n",
              "    }\n",
              "    90% {\n",
              "      border-color: transparent;\n",
              "      border-bottom-color: var(--fill-color);\n",
              "    }\n",
              "  }\n",
              "</style>\n",
              "\n",
              "      <script>\n",
              "        async function quickchart(key) {\n",
              "          const quickchartButtonEl =\n",
              "            document.querySelector('#' + key + ' button');\n",
              "          quickchartButtonEl.disabled = true;  // To prevent multiple clicks.\n",
              "          quickchartButtonEl.classList.add('colab-df-spinner');\n",
              "          try {\n",
              "            const charts = await google.colab.kernel.invokeFunction(\n",
              "                'suggestCharts', [key], {});\n",
              "          } catch (error) {\n",
              "            console.error('Error during call to suggestCharts:', error);\n",
              "          }\n",
              "          quickchartButtonEl.classList.remove('colab-df-spinner');\n",
              "          quickchartButtonEl.classList.add('colab-df-quickchart-complete');\n",
              "        }\n",
              "        (() => {\n",
              "          let quickchartButtonEl =\n",
              "            document.querySelector('#df-d813b20b-727a-4721-aaff-d397228f0d31 button');\n",
              "          quickchartButtonEl.style.display =\n",
              "            google.colab.kernel.accessAllowed ? 'block' : 'none';\n",
              "        })();\n",
              "      </script>\n",
              "    </div>\n",
              "\n",
              "    </div>\n",
              "  </div>\n"
            ],
            "application/vnd.google.colaboratory.intrinsic+json": {
              "type": "dataframe",
              "variable_name": "df"
            }
          },
          "metadata": {},
          "execution_count": 4
        }
      ]
    },
    {
      "cell_type": "code",
      "source": [
        "df.shape"
      ],
      "metadata": {
        "colab": {
          "base_uri": "https://localhost:8080/"
        },
        "id": "66sr8PtDKWq4",
        "outputId": "5ce5159f-0809-4cb4-b371-20a52f252748"
      },
      "execution_count": 5,
      "outputs": [
        {
          "output_type": "execute_result",
          "data": {
            "text/plain": [
              "(4723, 785)"
            ]
          },
          "metadata": {},
          "execution_count": 5
        }
      ]
    },
    {
      "cell_type": "code",
      "source": [
        "# train test split\n",
        "\n",
        "X = df.iloc[:, 1:].values\n",
        "y = df.iloc[:, 0].values"
      ],
      "metadata": {
        "id": "jZ0wyE27Ka49"
      },
      "execution_count": 6,
      "outputs": []
    },
    {
      "cell_type": "code",
      "source": [
        "X_train, X_test, y_train, y_test = train_test_split(X, y, test_size=0.2, random_state=42)"
      ],
      "metadata": {
        "id": "F6_hsbgPKcxJ"
      },
      "execution_count": 7,
      "outputs": []
    },
    {
      "cell_type": "code",
      "source": [
        "X_train = X_train/255.0\n",
        "X_test = X_test/255.0"
      ],
      "metadata": {
        "id": "CKa2G1flKenu"
      },
      "execution_count": 8,
      "outputs": []
    },
    {
      "cell_type": "code",
      "source": [
        "class CustomDataset(Dataset):\n",
        "\n",
        "  def __init__(self, features, labels):\n",
        "\n",
        "    # Convert to PyTorch tensors\n",
        "    self.features = torch.tensor(features, dtype=torch.float32)\n",
        "    self.labels = torch.tensor(labels, dtype=torch.long)\n",
        "\n",
        "  def __len__(self):\n",
        "    return len(self.features)\n",
        "\n",
        "  def __getitem__(self, index):\n",
        "    return self.features[index], self.labels[index]"
      ],
      "metadata": {
        "id": "oFvR3c-7KgdU"
      },
      "execution_count": 9,
      "outputs": []
    },
    {
      "cell_type": "code",
      "source": [
        "train_dataset = CustomDataset(X_train, y_train)\n",
        "test_dataset = CustomDataset(X_test, y_test)"
      ],
      "metadata": {
        "id": "5pmQtTTUKjik"
      },
      "execution_count": 10,
      "outputs": []
    },
    {
      "cell_type": "code",
      "source": [
        "train_loader = DataLoader(train_dataset, batch_size=32, shuffle=True, pin_memory=True)\n",
        "test_loader = DataLoader(test_dataset, batch_size=32, shuffle=False, pin_memory=True)"
      ],
      "metadata": {
        "id": "7ePLnfMTKwsv"
      },
      "execution_count": 11,
      "outputs": []
    },
    {
      "cell_type": "code",
      "source": [
        "# define NN class\n",
        "\n",
        "class MyNN(nn.Module):\n",
        "\n",
        "  def __init__(self, num_features):\n",
        "\n",
        "    super().__init__()\n",
        "    self.model=nn.Sequential(\n",
        "      nn.Linear(784,128),\n",
        "      nn.BatchNorm1d(128),\n",
        "      nn.ReLU(),\n",
        "      nn.Dropout(p=0.5),\n",
        "      nn.Linear(128,64),\n",
        "      nn.BatchNorm1d(64),\n",
        "      nn.ReLU(),\n",
        "      nn.Dropout(p=0.5),\n",
        "      nn.Linear(64,10)\n",
        "  )\n",
        "  def forward(self,x):\n",
        "    return self.model(x)"
      ],
      "metadata": {
        "id": "cx4_1cMnzd-H"
      },
      "execution_count": 12,
      "outputs": []
    },
    {
      "cell_type": "markdown",
      "source": [
        "For this task, we focus on optimizing the neural network to reduce overfitting by applying a combination of regularization, dropout, and batch normalization techniques.  we incorporate nn.Dropout() layers into the hidden layers, using a dropout rate of 0.5 to randomly deactivate half of the neurons during training. This forces the network to rely on multiple neurons rather than memorizing patterns, further preventing overfitting. Additionally, we integrate nn.BatchNorm1d() after each linear layer to normalize the outputs, which stabilizes training, accelerates convergence, and adds another layer of regularization. After making these modifications, we retrain the model for 100 epochs with these enhancements in place."
      ],
      "metadata": {
        "id": "HAQt0uKbc51S"
      }
    },
    {
      "cell_type": "code",
      "source": [
        "model=MyNN(X_train.shape[1])\n",
        "model.to(device)\n",
        "#loss function\n",
        "criterion=nn.CrossEntropyLoss()\n",
        "#optimizer\n",
        "optimizer=optim.SGD(model.parameters(),lr=0.1,weight_decay=1e-4)"
      ],
      "metadata": {
        "id": "fh6NtpGu1SMA"
      },
      "execution_count": 13,
      "outputs": []
    },
    {
      "cell_type": "markdown",
      "source": [
        "we introduce L2 regularization by setting a weight_decay parameter in the torch.optim.SGD optimizer (e.g., weight_decay=0.01). This penalizes large weight values during training, encouraging the network to generalize better."
      ],
      "metadata": {
        "id": "kpJwQS0Nc1kz"
      }
    },
    {
      "cell_type": "code",
      "source": [
        "# Lists for tracking metrics\n",
        "train_losses = []\n",
        "train_accuracies = []\n",
        "test_accuracies = []"
      ],
      "metadata": {
        "id": "shhNdFe0ePlX"
      },
      "execution_count": 14,
      "outputs": []
    },
    {
      "cell_type": "code",
      "source": [
        "# Training loop\n",
        "for epoch in range(100):\n",
        "    model.train()\n",
        "    total_epoch_loss = 0\n",
        "    correct_train = 0\n",
        "    total_train = 0\n",
        "\n",
        "    for batch_features, batch_labels in train_loader:\n",
        "        batch_features, batch_labels = batch_features.to(device), batch_labels.to(device)\n",
        "\n",
        "        outputs = model(batch_features)\n",
        "        loss = criterion(outputs, batch_labels)\n",
        "\n",
        "        optimizer.zero_grad()\n",
        "        loss.backward()\n",
        "        optimizer.step()\n",
        "\n",
        "        total_epoch_loss += loss.item()\n",
        "\n",
        "        _, predicted = torch.max(outputs, 1)\n",
        "        total_train += batch_labels.size(0)\n",
        "        correct_train += (predicted == batch_labels).sum().item()\n",
        "\n",
        "    avg_loss = total_epoch_loss / len(train_loader)\n",
        "    train_acc = correct_train / total_train\n",
        "    train_losses.append(avg_loss)\n",
        "    train_accuracies.append(train_acc)\n",
        "\n",
        "    # Evaluate on test set after each epoch\n",
        "    model.eval()\n",
        "    correct_test = 0\n",
        "    total_test = 0\n",
        "    with torch.no_grad():\n",
        "        for batch_features, batch_labels in test_loader:\n",
        "            batch_features, batch_labels = batch_features.to(device), batch_labels.to(device)\n",
        "            outputs = model(batch_features)\n",
        "            _, predicted = torch.max(outputs, 1)\n",
        "            total_test += batch_labels.size(0)\n",
        "            correct_test += (predicted == batch_labels).sum().item()\n",
        "    test_acc = correct_test / total_test\n",
        "    test_accuracies.append(test_acc)\n",
        "\n",
        "    print(f\"Epoch {epoch+1} | Loss: {avg_loss:.4f} | Train Acc: {train_acc:.4f} | Test Acc: {test_acc:.4f}\")\n"
      ],
      "metadata": {
        "colab": {
          "base_uri": "https://localhost:8080/"
        },
        "id": "sPNZDCfl1pR8",
        "outputId": "8a13e392-e82e-4a0d-8f96-5905ac4efef6"
      },
      "execution_count": 15,
      "outputs": [
        {
          "output_type": "stream",
          "name": "stdout",
          "text": [
            "Epoch 1 | Loss: 1.2319 | Train Acc: 0.5699 | Test Acc: 0.7280\n",
            "Epoch 2 | Loss: 0.9164 | Train Acc: 0.6792 | Test Acc: 0.7640\n",
            "Epoch 3 | Loss: 0.7925 | Train Acc: 0.7258 | Test Acc: 0.7894\n",
            "Epoch 4 | Loss: 0.7642 | Train Acc: 0.7385 | Test Acc: 0.7852\n",
            "Epoch 5 | Loss: 0.7547 | Train Acc: 0.7517 | Test Acc: 0.8042\n",
            "Epoch 6 | Loss: 0.6989 | Train Acc: 0.7639 | Test Acc: 0.7968\n",
            "Epoch 7 | Loss: 0.6522 | Train Acc: 0.7747 | Test Acc: 0.8201\n",
            "Epoch 8 | Loss: 0.6772 | Train Acc: 0.7769 | Test Acc: 0.8011\n",
            "Epoch 9 | Loss: 0.6313 | Train Acc: 0.7835 | Test Acc: 0.1101\n",
            "Epoch 10 | Loss: 0.6583 | Train Acc: 0.7753 | Test Acc: 0.7767\n",
            "Epoch 11 | Loss: 0.6256 | Train Acc: 0.7896 | Test Acc: 0.8138\n",
            "Epoch 12 | Loss: 0.6047 | Train Acc: 0.7912 | Test Acc: 0.4995\n",
            "Epoch 13 | Loss: 0.5698 | Train Acc: 0.7943 | Test Acc: 0.8032\n",
            "Epoch 14 | Loss: 0.5815 | Train Acc: 0.8047 | Test Acc: 0.7979\n",
            "Epoch 15 | Loss: 0.5663 | Train Acc: 0.8057 | Test Acc: 0.8095\n",
            "Epoch 16 | Loss: 0.5128 | Train Acc: 0.8160 | Test Acc: 0.8074\n",
            "Epoch 17 | Loss: 0.6046 | Train Acc: 0.8068 | Test Acc: 0.8053\n",
            "Epoch 18 | Loss: 0.5145 | Train Acc: 0.8224 | Test Acc: 0.6603\n",
            "Epoch 19 | Loss: 0.5299 | Train Acc: 0.8047 | Test Acc: 0.8116\n",
            "Epoch 20 | Loss: 0.5063 | Train Acc: 0.8216 | Test Acc: 0.8085\n",
            "Epoch 21 | Loss: 0.5246 | Train Acc: 0.8200 | Test Acc: 0.8032\n",
            "Epoch 22 | Loss: 0.5004 | Train Acc: 0.8266 | Test Acc: 0.8053\n",
            "Epoch 23 | Loss: 0.5191 | Train Acc: 0.8221 | Test Acc: 0.8212\n",
            "Epoch 24 | Loss: 0.4884 | Train Acc: 0.8343 | Test Acc: 0.8011\n",
            "Epoch 25 | Loss: 0.4850 | Train Acc: 0.8317 | Test Acc: 0.7968\n",
            "Epoch 26 | Loss: 0.5165 | Train Acc: 0.8195 | Test Acc: 0.2444\n",
            "Epoch 27 | Loss: 0.5581 | Train Acc: 0.8134 | Test Acc: 0.8169\n",
            "Epoch 28 | Loss: 0.4968 | Train Acc: 0.8227 | Test Acc: 0.8095\n",
            "Epoch 29 | Loss: 0.4742 | Train Acc: 0.8285 | Test Acc: 0.7979\n",
            "Epoch 30 | Loss: 0.4526 | Train Acc: 0.8346 | Test Acc: 0.8180\n",
            "Epoch 31 | Loss: 0.4822 | Train Acc: 0.8325 | Test Acc: 0.8201\n",
            "Epoch 32 | Loss: 0.5046 | Train Acc: 0.8372 | Test Acc: 0.8243\n",
            "Epoch 33 | Loss: 0.4550 | Train Acc: 0.8367 | Test Acc: 0.8116\n",
            "Epoch 34 | Loss: 0.4436 | Train Acc: 0.8457 | Test Acc: 0.8254\n",
            "Epoch 35 | Loss: 0.5171 | Train Acc: 0.8380 | Test Acc: 0.3884\n",
            "Epoch 36 | Loss: 0.4498 | Train Acc: 0.8470 | Test Acc: 0.8243\n",
            "Epoch 37 | Loss: 0.4658 | Train Acc: 0.8444 | Test Acc: 0.8032\n",
            "Epoch 38 | Loss: 0.4477 | Train Acc: 0.8486 | Test Acc: 0.7968\n",
            "Epoch 39 | Loss: 0.4716 | Train Acc: 0.8428 | Test Acc: 0.8169\n",
            "Epoch 40 | Loss: 0.4238 | Train Acc: 0.8449 | Test Acc: 0.8243\n",
            "Epoch 41 | Loss: 0.4253 | Train Acc: 0.8467 | Test Acc: 0.8190\n",
            "Epoch 42 | Loss: 0.4362 | Train Acc: 0.8539 | Test Acc: 0.8106\n",
            "Epoch 43 | Loss: 0.4218 | Train Acc: 0.8512 | Test Acc: 0.8222\n",
            "Epoch 44 | Loss: 0.4066 | Train Acc: 0.8584 | Test Acc: 0.8063\n",
            "Epoch 45 | Loss: 0.4409 | Train Acc: 0.8491 | Test Acc: 0.4677\n",
            "Epoch 46 | Loss: 0.4254 | Train Acc: 0.8518 | Test Acc: 0.8307\n",
            "Epoch 47 | Loss: 0.3951 | Train Acc: 0.8587 | Test Acc: 0.8053\n",
            "Epoch 48 | Loss: 0.4117 | Train Acc: 0.8584 | Test Acc: 0.8042\n",
            "Epoch 49 | Loss: 0.4406 | Train Acc: 0.8542 | Test Acc: 0.7312\n",
            "Epoch 50 | Loss: 0.4311 | Train Acc: 0.8502 | Test Acc: 0.8159\n",
            "Epoch 51 | Loss: 0.4555 | Train Acc: 0.8454 | Test Acc: 0.8212\n",
            "Epoch 52 | Loss: 0.4128 | Train Acc: 0.8597 | Test Acc: 0.8000\n",
            "Epoch 53 | Loss: 0.4253 | Train Acc: 0.8600 | Test Acc: 0.8286\n",
            "Epoch 54 | Loss: 0.4090 | Train Acc: 0.8597 | Test Acc: 0.8201\n",
            "Epoch 55 | Loss: 0.4124 | Train Acc: 0.8589 | Test Acc: 0.8159\n",
            "Epoch 56 | Loss: 0.4359 | Train Acc: 0.8618 | Test Acc: 0.8032\n",
            "Epoch 57 | Loss: 0.4019 | Train Acc: 0.8597 | Test Acc: 0.7947\n",
            "Epoch 58 | Loss: 0.4218 | Train Acc: 0.8692 | Test Acc: 0.8138\n",
            "Epoch 59 | Loss: 0.3795 | Train Acc: 0.8661 | Test Acc: 0.8349\n",
            "Epoch 60 | Loss: 0.4242 | Train Acc: 0.8729 | Test Acc: 0.8201\n",
            "Epoch 61 | Loss: 0.3556 | Train Acc: 0.8777 | Test Acc: 0.8169\n",
            "Epoch 62 | Loss: 0.3859 | Train Acc: 0.8716 | Test Acc: 0.8243\n",
            "Epoch 63 | Loss: 0.3959 | Train Acc: 0.8719 | Test Acc: 0.8116\n",
            "Epoch 64 | Loss: 0.3824 | Train Acc: 0.8727 | Test Acc: 0.8212\n",
            "Epoch 65 | Loss: 0.4001 | Train Acc: 0.8732 | Test Acc: 0.7894\n",
            "Epoch 66 | Loss: 0.3901 | Train Acc: 0.8637 | Test Acc: 0.3175\n",
            "Epoch 67 | Loss: 0.5722 | Train Acc: 0.8052 | Test Acc: 0.8265\n",
            "Epoch 68 | Loss: 0.4673 | Train Acc: 0.8245 | Test Acc: 0.8212\n",
            "Epoch 69 | Loss: 0.4590 | Train Acc: 0.8449 | Test Acc: 0.1016\n",
            "Epoch 70 | Loss: 0.4629 | Train Acc: 0.8364 | Test Acc: 0.8286\n",
            "Epoch 71 | Loss: 0.4451 | Train Acc: 0.8335 | Test Acc: 0.7841\n",
            "Epoch 72 | Loss: 0.4436 | Train Acc: 0.8430 | Test Acc: 0.8042\n",
            "Epoch 73 | Loss: 0.4223 | Train Acc: 0.8449 | Test Acc: 0.8254\n",
            "Epoch 74 | Loss: 0.4721 | Train Acc: 0.8491 | Test Acc: 0.8222\n",
            "Epoch 75 | Loss: 0.4266 | Train Acc: 0.8552 | Test Acc: 0.8201\n",
            "Epoch 76 | Loss: 0.4074 | Train Acc: 0.8528 | Test Acc: 0.8201\n",
            "Epoch 77 | Loss: 0.4025 | Train Acc: 0.8563 | Test Acc: 0.8243\n",
            "Epoch 78 | Loss: 0.4203 | Train Acc: 0.8634 | Test Acc: 0.8201\n",
            "Epoch 79 | Loss: 0.4513 | Train Acc: 0.8589 | Test Acc: 0.4233\n",
            "Epoch 80 | Loss: 0.6482 | Train Acc: 0.7763 | Test Acc: 0.8074\n",
            "Epoch 81 | Loss: 0.5607 | Train Acc: 0.8118 | Test Acc: 0.8021\n",
            "Epoch 82 | Loss: 0.5833 | Train Acc: 0.8179 | Test Acc: 0.8032\n",
            "Epoch 83 | Loss: 0.4975 | Train Acc: 0.8224 | Test Acc: 0.8243\n",
            "Epoch 84 | Loss: 0.4903 | Train Acc: 0.8242 | Test Acc: 0.7841\n",
            "Epoch 85 | Loss: 0.4686 | Train Acc: 0.8391 | Test Acc: 0.8116\n",
            "Epoch 86 | Loss: 0.4644 | Train Acc: 0.8335 | Test Acc: 0.8212\n",
            "Epoch 87 | Loss: 0.4624 | Train Acc: 0.8446 | Test Acc: 0.8063\n",
            "Epoch 88 | Loss: 0.4318 | Train Acc: 0.8409 | Test Acc: 0.8201\n",
            "Epoch 89 | Loss: 0.4522 | Train Acc: 0.8383 | Test Acc: 0.8127\n",
            "Epoch 90 | Loss: 0.4467 | Train Acc: 0.8494 | Test Acc: 0.8169\n",
            "Epoch 91 | Loss: 0.4425 | Train Acc: 0.8536 | Test Acc: 0.8116\n",
            "Epoch 92 | Loss: 0.4060 | Train Acc: 0.8520 | Test Acc: 0.8243\n",
            "Epoch 93 | Loss: 0.4375 | Train Acc: 0.8446 | Test Acc: 0.3196\n",
            "Epoch 94 | Loss: 0.8090 | Train Acc: 0.7388 | Test Acc: 0.7968\n",
            "Epoch 95 | Loss: 0.6321 | Train Acc: 0.7787 | Test Acc: 0.7979\n",
            "Epoch 96 | Loss: 0.5752 | Train Acc: 0.7922 | Test Acc: 0.8138\n",
            "Epoch 97 | Loss: 0.5718 | Train Acc: 0.8033 | Test Acc: 0.8212\n",
            "Epoch 98 | Loss: 0.5446 | Train Acc: 0.8139 | Test Acc: 0.8095\n",
            "Epoch 99 | Loss: 0.5633 | Train Acc: 0.8089 | Test Acc: 0.2519\n",
            "Epoch 100 | Loss: 0.5416 | Train Acc: 0.8097 | Test Acc: 0.8243\n"
          ]
        }
      ]
    },
    {
      "cell_type": "code",
      "source": [
        "# Final evaluation\n",
        "print(f\"Final Training Accuracy: {train_accuracies[-1]:.4f}\")\n",
        "print(f\"Final Testing Accuracy: {test_accuracies[-1]:.4f}\")\n",
        "print(f\"Accuracy Gap: {train_accuracies[-1] - test_accuracies[-1]:.4f}\")"
      ],
      "metadata": {
        "colab": {
          "base_uri": "https://localhost:8080/"
        },
        "id": "pqDgFxEMeZys",
        "outputId": "fbc091eb-77f2-4908-9e22-82cf73c2f728"
      },
      "execution_count": 16,
      "outputs": [
        {
          "output_type": "stream",
          "name": "stdout",
          "text": [
            "Final Training Accuracy: 0.8097\n",
            "Final Testing Accuracy: 0.8243\n",
            "Accuracy Gap: -0.0147\n"
          ]
        }
      ]
    },
    {
      "cell_type": "code",
      "source": [
        "# Plot training vs testing accuracy\n",
        "plt.figure(figsize=(10,4))\n",
        "plt.plot(train_accuracies, label='Training Accuracy', marker='o')\n",
        "plt.plot(test_accuracies, label='Testing Accuracy', marker='o')\n",
        "plt.title(\"Training vs Testing Accuracy\")\n",
        "plt.xlabel(\"Epoch\")\n",
        "plt.ylabel(\"Accuracy\")\n",
        "plt.legend()\n",
        "plt.grid(True)\n",
        "plt.show()\n",
        "\n"
      ],
      "metadata": {
        "id": "LEy0eTkJ2AKv",
        "colab": {
          "base_uri": "https://localhost:8080/",
          "height": 316
        },
        "outputId": "35550fd2-c50a-4ebe-c0ae-8e546c87267b"
      },
      "execution_count": 19,
      "outputs": [
        {
          "output_type": "display_data",
          "data": {
            "text/plain": [
              "<Figure size 1000x400 with 1 Axes>"
            ],
            "image/png": "[encoded data removed]"
          },
          "metadata": {}
        }
      ]
    },
    {
      "cell_type": "code",
      "source": [
        "# Plot loss curve\n",
        "plt.figure(figsize=(10,4))\n",
        "plt.plot(train_losses, label='Training Loss', marker='o', color='red')\n",
        "plt.title(\"Training Loss Over Epochs\")\n",
        "plt.xlabel(\"Epoch\")\n",
        "plt.ylabel(\"Loss\")\n",
        "plt.legend()\n",
        "plt.grid(True)\n",
        "plt.show()"
      ],
      "metadata": {
        "colab": {
          "base_uri": "https://localhost:8080/",
          "height": 316
        },
        "id": "idtpMUC3euGx",
        "outputId": "5ad555a5-fa66-4b31-e9d1-d52d6a8c9a75"
      },
      "execution_count": 18,
      "outputs": [
        {
          "output_type": "display_data",
          "data": {
            "text/plain": [
              "<Figure size 1000x400 with 1 Axes>"
            ],
            "image/png": "[encoded data removed]"
          },
          "metadata": {}
        }
      ]
    },
    {
      "cell_type": "markdown",
      "source": [
        "Finally, we evaluate the performance by testing on the unseen dataset and comparing training and testing accuracies. The gap between these two accuracies provides insight into how effectively overfitting has been reduced."
      ],
      "metadata": {
        "id": "QoVMH26bdGE1"
      }
    }
  ]
}